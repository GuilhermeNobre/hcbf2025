{
 "cells": [
  {
   "cell_type": "code",
   "execution_count": 1,
   "metadata": {},
   "outputs": [],
   "source": [
    "import os\n",
    "import shutil\n",
    "import random\n",
    "from natsort import natsorted\n",
    "from ultralytics import YOLO"
   ]
  },
  {
   "cell_type": "code",
   "execution_count": 79,
   "metadata": {},
   "outputs": [
    {
     "name": "stdout",
     "output_type": "stream",
     "text": [
      "['cloudy1.jpg', 'cloudy2.jpg', 'cloudy3.jpg', 'cloudy4.jpg', 'cloudy5.jpg', 'cloudy6.jpg', 'cloudy7.jpg', 'cloudy8.jpg', 'cloudy9.jpg', 'cloudy10.jpg', 'cloudy11.jpg', 'cloudy12.jpg', 'cloudy13.jpg', 'cloudy14.jpg', 'cloudy15.jpg', 'cloudy16.jpg', 'cloudy17.jpg', 'cloudy18.jpg', 'cloudy19.jpg', 'cloudy20.jpg', 'cloudy21.jpg', 'cloudy22.jpg', 'cloudy23.jpg', 'cloudy24.jpg', 'cloudy25.jpg', 'cloudy26.jpg', 'cloudy27.jpg', 'cloudy28.jpg', 'cloudy29.jpg', 'cloudy30.jpg', 'cloudy31.jpg', 'cloudy32.jpg', 'cloudy33.jpg', 'cloudy34.jpg', 'cloudy35.jpg', 'cloudy36.jpg', 'cloudy37.jpg', 'cloudy38.jpg', 'cloudy39.jpg', 'cloudy40.jpg', 'cloudy41.jpg', 'cloudy42.jpg', 'cloudy43.jpg', 'cloudy44.jpg', 'cloudy45.jpg', 'cloudy46.jpg', 'cloudy47.jpg', 'cloudy48.jpg', 'cloudy49.jpg', 'cloudy50.jpg', 'cloudy51.jpg', 'cloudy52.jpg', 'cloudy53.jpg', 'cloudy54.jpg', 'cloudy55.jpg', 'cloudy56.jpg', 'cloudy57.jpg', 'cloudy58.jpg', 'cloudy59.jpg', 'cloudy60.jpg', 'cloudy61.jpg', 'cloudy62.jpg', 'cloudy63.jpg', 'cloudy64.jpg', 'cloudy65.jpg', 'cloudy66.jpg', 'cloudy67.jpg', 'cloudy68.jpg', 'cloudy69.jpg', 'cloudy70.jpg', 'cloudy71.jpg', 'cloudy72.jpg', 'cloudy73.jpg', 'cloudy74.jpg', 'cloudy75.jpg', 'cloudy76.jpg', 'cloudy77.jpg', 'cloudy78.jpg', 'cloudy79.jpg', 'cloudy80.jpg', 'cloudy81.jpg', 'cloudy82.jpg', 'cloudy83.jpg', 'cloudy84.jpg', 'cloudy85.jpg', 'cloudy86.jpg', 'cloudy87.jpg', 'cloudy88.jpg', 'cloudy89.jpg', 'cloudy90.jpg', 'cloudy91.jpg', 'cloudy92.jpg', 'cloudy93.jpg', 'cloudy94.jpg', 'cloudy95.jpg', 'cloudy96.jpg', 'cloudy97.jpg', 'cloudy98.jpg', 'cloudy99.jpg', 'cloudy100.jpg', 'cloudy101.jpg', 'cloudy102.jpg', 'cloudy103.jpg', 'cloudy104.jpg', 'cloudy105.jpg', 'cloudy106.jpg', 'cloudy107.jpg', 'cloudy108.jpg', 'cloudy109.jpg', 'cloudy110.jpg', 'cloudy111.jpg', 'cloudy112.jpg', 'cloudy113.jpg', 'cloudy114.jpg', 'cloudy115.jpg', 'cloudy116.jpg', 'cloudy117.jpg', 'cloudy118.jpg', 'cloudy119.jpg', 'cloudy120.jpg', 'cloudy121.jpg', 'cloudy122.jpg', 'cloudy123.jpg', 'cloudy124.jpg', 'cloudy125.jpg', 'cloudy126.jpg', 'cloudy127.jpg', 'cloudy128.jpg', 'cloudy129.jpg', 'cloudy130.jpg', 'cloudy131.jpg', 'cloudy132.jpg', 'cloudy133.jpg', 'cloudy134.jpg', 'cloudy135.jpg', 'cloudy136.jpg', 'cloudy137.jpg', 'cloudy138.jpg', 'cloudy139.jpg', 'cloudy140.jpg', 'cloudy141.jpg', 'cloudy142.jpg', 'cloudy143.jpg', 'cloudy144.jpg', 'cloudy145.jpg', 'cloudy146.jpg', 'cloudy147.jpg', 'cloudy148.jpg', 'cloudy149.jpg', 'cloudy150.jpg', 'cloudy151.jpg', 'cloudy152.jpg', 'cloudy153.jpg', 'cloudy154.jpg', 'cloudy155.jpg', 'cloudy156.jpg', 'cloudy157.jpg', 'cloudy158.jpg', 'cloudy159.jpg', 'cloudy160.jpg', 'cloudy161.jpg', 'cloudy162.jpg', 'cloudy163.jpg', 'cloudy164.jpg', 'cloudy165.jpg', 'cloudy166.jpg', 'cloudy167.jpg', 'cloudy168.jpg', 'cloudy169.jpg', 'cloudy170.jpg', 'cloudy171.jpg', 'cloudy172.jpg', 'cloudy173.jpg', 'cloudy174.jpg', 'cloudy175.jpg', 'cloudy176.jpg', 'cloudy177.jpg', 'cloudy178.jpg', 'cloudy179.jpg', 'cloudy180.jpg', 'cloudy181.jpg', 'cloudy182.jpg', 'cloudy183.jpg', 'cloudy184.jpg', 'cloudy185.jpg', 'cloudy186.jpg', 'cloudy187.jpg', 'cloudy188.jpg', 'cloudy189.jpg', 'cloudy190.jpg', 'cloudy191.jpg', 'cloudy192.jpg', 'cloudy193.jpg', 'cloudy194.jpg', 'cloudy195.jpg', 'cloudy196.jpg', 'cloudy197.jpg', 'cloudy198.jpg', 'cloudy199.jpg', 'cloudy200.jpg', 'cloudy201.jpg', 'cloudy202.jpg', 'cloudy203.jpg', 'cloudy204.jpg', 'cloudy205.jpg', 'cloudy206.jpg', 'cloudy207.jpg', 'cloudy208.jpg', 'cloudy209.jpg', 'cloudy210.jpg', 'cloudy211.jpg', 'cloudy212.jpg', 'cloudy213.jpg', 'cloudy214.jpg', 'cloudy215.jpg', 'cloudy216.jpg', 'cloudy217.jpg', 'cloudy218.jpg', 'cloudy219.jpg', 'cloudy220.jpg', 'cloudy221.jpg', 'cloudy222.jpg', 'cloudy223.jpg', 'cloudy224.jpg', 'cloudy225.jpg', 'cloudy226.jpg', 'cloudy227.jpg', 'cloudy228.jpg', 'cloudy229.jpg', 'cloudy230.jpg', 'cloudy231.jpg', 'cloudy232.jpg', 'cloudy233.jpg', 'cloudy234.jpg', 'cloudy235.jpg', 'cloudy236.jpg', 'cloudy237.jpg', 'cloudy238.jpg', 'cloudy239.jpg', 'cloudy240.jpg', 'cloudy241.jpg', 'cloudy242.jpg', 'cloudy243.jpg', 'cloudy244.jpg', 'cloudy245.jpg', 'cloudy246.jpg', 'cloudy247.jpg', 'cloudy248.jpg', 'cloudy249.jpg', 'cloudy250.jpg', 'cloudy251.jpg', 'cloudy252.jpg', 'cloudy253.jpg', 'cloudy254.jpg', 'cloudy255.jpg', 'cloudy256.jpg', 'cloudy257.jpg', 'cloudy258.jpg', 'cloudy259.jpg', 'cloudy260.jpg', 'cloudy261.jpg', 'cloudy262.jpg', 'cloudy263.jpg', 'cloudy264.jpg', 'cloudy265.jpg', 'cloudy266.jpg', 'cloudy267.jpg', 'cloudy268.jpg', 'cloudy269.jpg', 'cloudy270.jpg', 'cloudy271.jpg', 'cloudy272.jpg', 'cloudy273.jpg', 'cloudy274.jpg', 'cloudy275.jpg', 'cloudy276.jpg', 'cloudy277.jpg', 'cloudy278.jpg', 'cloudy279.jpg', 'cloudy280.jpg', 'cloudy281.jpg', 'cloudy282.jpg', 'cloudy283.jpg', 'cloudy284.jpg', 'cloudy285.jpg', 'cloudy286.jpg', 'cloudy287.jpg', 'cloudy288.jpg', 'cloudy289.jpg', 'cloudy290.jpg', 'cloudy291.jpg', 'cloudy292.jpg', 'cloudy293.jpg', 'cloudy294.jpg', 'cloudy295.jpg', 'cloudy296.jpg', 'cloudy297.jpg', 'cloudy298.jpg', 'cloudy299.jpg', 'cloudy300.jpg']\n",
      "300\n"
     ]
    }
   ],
   "source": [
    "# Read all files in the database/cloudy \n",
    "for root, dirs, files in os.walk(\"database/cloudy\"):\n",
    "    # alphabetically sort the files and not alphanumeric\n",
    "    print(natsorted(files))\n",
    "\n",
    "# Print length of the files\n",
    "print(len(files))"
   ]
  },
  {
   "cell_type": "code",
   "execution_count": 80,
   "metadata": {},
   "outputs": [],
   "source": [
    "origem = \"database\"\n",
    "destiny_base = \"dataset\"\n",
    "destiny_train = os.path.join(destiny_base, \"train\")\n",
    "destiny_val = os.path.join(destiny_base, \"val\")"
   ]
  },
  {
   "cell_type": "code",
   "execution_count": 81,
   "metadata": {},
   "outputs": [],
   "source": [
    "percent_train = 0.8\n",
    "percent_val = 0.2"
   ]
  },
  {
   "cell_type": "code",
   "execution_count": 82,
   "metadata": {},
   "outputs": [],
   "source": [
    "os.makedirs(destiny_train, exist_ok=True)\n",
    "os.makedirs(destiny_val, exist_ok=True)"
   ]
  },
  {
   "cell_type": "code",
   "execution_count": 83,
   "metadata": {},
   "outputs": [
    {
     "name": "stdout",
     "output_type": "stream",
     "text": [
      "📂 Classe: cloudy\n",
      "   🏋️‍♂️ 240 imagens para treino\n",
      "   🧪 60 imagens para validação\n",
      "\n",
      "📂 Classe: rain\n",
      "   🏋️‍♂️ 170 imagens para treino\n",
      "   🧪 43 imagens para validação\n",
      "\n",
      "📂 Classe: shine\n",
      "   🏋️‍♂️ 202 imagens para treino\n",
      "   🧪 51 imagens para validação\n",
      "\n",
      "📂 Classe: sunrise\n",
      "   🏋️‍♂️ 284 imagens para treino\n",
      "   🧪 72 imagens para validação\n",
      "\n",
      "✅ **Divisão concluída!** Imagens movidas para 'dataset/train' e 'dataset/val'.\n"
     ]
    }
   ],
   "source": [
    "for classe in os.listdir(origem):\n",
    "    path_class = os.path.join(origem, classe)\n",
    "\n",
    "    if os.path.isdir(path_class):\n",
    "        images = [f for f in os.listdir(path_class) if f.endswith(\".jpg\")]\n",
    "\n",
    "        os.makedirs(os.path.join(destiny_train, classe), exist_ok=True)\n",
    "        os.makedirs(os.path.join(destiny_val, classe), exist_ok=True)\n",
    "\n",
    "        random.shuffle(images)\n",
    "\n",
    "        total_images = len(images)\n",
    "        qtd_train = int(total_images * percent_train)\n",
    "        qtd_val = total_images - qtd_train\n",
    "\n",
    "\n",
    "        images_train = images[:qtd_train]\n",
    "        images_val = images[qtd_train:]\n",
    "\n",
    "\n",
    "        for img in images_train:\n",
    "            shutil.copy(os.path.join(path_class, img), os.path.join(destiny_train, classe, img))\n",
    "\n",
    "        for img in images_val:\n",
    "            shutil.copy(os.path.join(path_class, img), os.path.join(destiny_val, classe, img))\n",
    "\n",
    "        print(f\"📂 Classe: {classe}\")\n",
    "        print(f\"   🏋️‍♂️ {qtd_train} imagens para treino\")\n",
    "        print(f\"   🧪 {qtd_val} imagens para validação\\n\")\n",
    "\n",
    "print(\"✅ **Divisão concluída!** Imagens movidas para 'dataset/train' e 'dataset/val'.\")"
   ]
  },
  {
   "cell_type": "code",
   "execution_count": 3,
   "metadata": {},
   "outputs": [
    {
     "name": "stdout",
     "output_type": "stream",
     "text": [
      "Downloading https://github.com/ultralytics/assets/releases/download/v8.3.0/yolov8n-cls.pt to 'yolov8n-cls.pt'...\n"
     ]
    },
    {
     "name": "stderr",
     "output_type": "stream",
     "text": [
      "100%|██████████| 5.31M/5.31M [00:00<00:00, 8.25MB/s]\n"
     ]
    }
   ],
   "source": [
    "model = YOLO(\"yolov8n-cls.pt\")"
   ]
  },
  {
   "cell_type": "code",
   "execution_count": 5,
   "metadata": {},
   "outputs": [
    {
     "name": "stdout",
     "output_type": "stream",
     "text": [
      "Ultralytics 8.3.74 🚀 Python-3.10.12 torch-2.6.0+cu124 CUDA:0 (NVIDIA GeForce RTX 3050, 7971MiB)\n",
      "\u001b[34m\u001b[1mengine/trainer: \u001b[0mtask=classify, mode=train, model=yolov8n-cls.pt, data=/media/guilherme/Novo volume/HacktoonBF/yolo_cl/dataset, epochs=100, time=None, patience=100, batch=16, imgsz=640, save=True, save_period=-1, cache=False, device=None, workers=8, project=None, name=train, exist_ok=False, pretrained=True, optimizer=auto, verbose=True, seed=0, deterministic=True, single_cls=False, rect=False, cos_lr=False, close_mosaic=10, resume=False, amp=True, fraction=1.0, profile=False, freeze=None, multi_scale=False, overlap_mask=True, mask_ratio=4, dropout=0.0, val=True, split=val, save_json=False, save_hybrid=False, conf=None, iou=0.7, max_det=300, half=False, dnn=False, plots=True, source=None, vid_stride=1, stream_buffer=False, visualize=False, augment=False, agnostic_nms=False, classes=None, retina_masks=False, embed=None, show=False, save_frames=False, save_txt=False, save_conf=False, save_crop=False, show_labels=True, show_conf=True, show_boxes=True, line_width=None, format=torchscript, keras=False, optimize=False, int8=False, dynamic=False, simplify=True, opset=None, workspace=None, nms=False, lr0=0.01, lrf=0.01, momentum=0.937, weight_decay=0.0005, warmup_epochs=3.0, warmup_momentum=0.8, warmup_bias_lr=0.1, box=7.5, cls=0.5, dfl=1.5, pose=12.0, kobj=1.0, nbs=64, hsv_h=0.015, hsv_s=0.7, hsv_v=0.4, degrees=0.0, translate=0.1, scale=0.5, shear=0.0, perspective=0.0, flipud=0.0, fliplr=0.5, bgr=0.0, mosaic=1.0, mixup=0.0, copy_paste=0.0, copy_paste_mode=flip, auto_augment=randaugment, erasing=0.4, crop_fraction=1.0, cfg=None, tracker=botsort.yaml, save_dir=runs/classify/train\n",
      "\u001b[34m\u001b[1mtrain:\u001b[0m /media/guilherme/Novo volume/HacktoonBF/yolo_cl/dataset/train... found 896 images in 4 classes ✅ \n",
      "\u001b[34m\u001b[1mval:\u001b[0m /media/guilherme/Novo volume/HacktoonBF/yolo_cl/dataset/val... found 226 images in 4 classes ✅ \n",
      "\u001b[34m\u001b[1mtest:\u001b[0m None...\n",
      "Overriding model.yaml nc=1000 with nc=4\n",
      "\n",
      "                   from  n    params  module                                       arguments                     \n",
      "  0                  -1  1       464  ultralytics.nn.modules.conv.Conv             [3, 16, 3, 2]                 \n",
      "  1                  -1  1      4672  ultralytics.nn.modules.conv.Conv             [16, 32, 3, 2]                \n",
      "  2                  -1  1      7360  ultralytics.nn.modules.block.C2f             [32, 32, 1, True]             \n",
      "  3                  -1  1     18560  ultralytics.nn.modules.conv.Conv             [32, 64, 3, 2]                \n",
      "  4                  -1  2     49664  ultralytics.nn.modules.block.C2f             [64, 64, 2, True]             \n",
      "  5                  -1  1     73984  ultralytics.nn.modules.conv.Conv             [64, 128, 3, 2]               \n",
      "  6                  -1  2    197632  ultralytics.nn.modules.block.C2f             [128, 128, 2, True]           \n",
      "  7                  -1  1    295424  ultralytics.nn.modules.conv.Conv             [128, 256, 3, 2]              \n",
      "  8                  -1  1    460288  ultralytics.nn.modules.block.C2f             [256, 256, 1, True]           \n",
      "  9                  -1  1    335364  ultralytics.nn.modules.head.Classify         [256, 4]                      \n",
      "YOLOv8n-cls summary: 99 layers, 1,443,412 parameters, 1,443,412 gradients, 3.4 GFLOPs\n",
      "Transferred 156/158 items from pretrained weights\n",
      "\u001b[34m\u001b[1mAMP: \u001b[0mrunning Automatic Mixed Precision (AMP) checks...\n",
      "Downloading https://github.com/ultralytics/assets/releases/download/v8.3.0/yolo11n.pt to 'yolo11n.pt'...\n"
     ]
    },
    {
     "name": "stderr",
     "output_type": "stream",
     "text": [
      "100%|██████████| 5.35M/5.35M [00:00<00:00, 44.9MB/s]\n"
     ]
    },
    {
     "name": "stdout",
     "output_type": "stream",
     "text": [
      "\u001b[34m\u001b[1mAMP: \u001b[0mchecks passed ✅\n"
     ]
    },
    {
     "name": "stderr",
     "output_type": "stream",
     "text": [
      "\u001b[34m\u001b[1mtrain: \u001b[0mScanning /media/guilherme/Novo volume/HacktoonBF/yolo_cl/dataset/train... 895 images, 1 corrupt: 100%|██████████| 896/896 [00:00<00:00, 2767.86it/s]"
     ]
    },
    {
     "name": "stdout",
     "output_type": "stream",
     "text": [
      "\u001b[34m\u001b[1mtrain: \u001b[0mWARNING ⚠️ /media/guilherme/Novo volume/HacktoonBF/yolo_cl/dataset/train/rain/rain57.jpg: corrupt JPEG restored and saved\n",
      "\u001b[34m\u001b[1mtrain: \u001b[0mWARNING ⚠️ /media/guilherme/Novo volume/HacktoonBF/yolo_cl/dataset/train/shine/shine126.jpg: corrupt JPEG restored and saved\n",
      "\u001b[34m\u001b[1mtrain: \u001b[0mWARNING ⚠️ /media/guilherme/Novo volume/HacktoonBF/yolo_cl/dataset/train/shine/shine131.jpg: ignoring corrupt image/label: Invalid image format GIF. Supported formats are:\n",
      "images: {'dng', 'png', 'bmp', 'tif', 'mpo', 'pfm', 'heic', 'jpeg', 'tiff', 'jpg', 'webp'}\n",
      "videos: {'mpg', 'asf', 'webm', 'mkv', 'mp4', 'wmv', 'mpeg', 'ts', 'avi', 'm4v', 'gif', 'mov'}\n"
     ]
    },
    {
     "name": "stderr",
     "output_type": "stream",
     "text": [
      "\n"
     ]
    },
    {
     "name": "stdout",
     "output_type": "stream",
     "text": [
      "\u001b[34m\u001b[1mtrain: \u001b[0mNew cache created: /media/guilherme/Novo volume/HacktoonBF/yolo_cl/dataset/train.cache\n"
     ]
    },
    {
     "name": "stderr",
     "output_type": "stream",
     "text": [
      "\u001b[34m\u001b[1mval: \u001b[0mScanning /media/guilherme/Novo volume/HacktoonBF/yolo_cl/dataset/val... 225 images, 1 corrupt: 100%|██████████| 226/226 [00:00<00:00, 1480.65it/s]"
     ]
    },
    {
     "name": "stdout",
     "output_type": "stream",
     "text": [
      "\u001b[34m\u001b[1mval: \u001b[0mWARNING ⚠️ /media/guilherme/Novo volume/HacktoonBF/yolo_cl/dataset/val/rain/rain141.jpg: ignoring corrupt image/label: Invalid image format GIF. Supported formats are:\n",
      "images: {'dng', 'png', 'bmp', 'tif', 'mpo', 'pfm', 'heic', 'jpeg', 'tiff', 'jpg', 'webp'}\n",
      "videos: {'mpg', 'asf', 'webm', 'mkv', 'mp4', 'wmv', 'mpeg', 'ts', 'avi', 'm4v', 'gif', 'mov'}\n"
     ]
    },
    {
     "name": "stderr",
     "output_type": "stream",
     "text": [
      "\n"
     ]
    },
    {
     "name": "stdout",
     "output_type": "stream",
     "text": [
      "\u001b[34m\u001b[1mval: \u001b[0mNew cache created: /media/guilherme/Novo volume/HacktoonBF/yolo_cl/dataset/val.cache\n",
      "\u001b[34m\u001b[1moptimizer:\u001b[0m 'optimizer=auto' found, ignoring 'lr0=0.01' and 'momentum=0.937' and determining best 'optimizer', 'lr0' and 'momentum' automatically... \n",
      "\u001b[34m\u001b[1moptimizer:\u001b[0m AdamW(lr=0.00125, momentum=0.9) with parameter groups 26 weight(decay=0.0), 27 weight(decay=0.0005), 27 bias(decay=0.0)\n",
      "Image sizes 640 train, 640 val\n",
      "Using 8 dataloader workers\n",
      "Logging results to \u001b[1mruns/classify/train\u001b[0m\n",
      "Starting training for 100 epochs...\n",
      "\n",
      "      Epoch    GPU_mem       loss  Instances       Size\n"
     ]
    },
    {
     "name": "stderr",
     "output_type": "stream",
     "text": [
      "      1/100      1.59G     0.9295         15        640: 100%|██████████| 56/56 [00:10<00:00,  5.22it/s]\n",
      "               classes   top1_acc   top5_acc: 100%|██████████| 8/8 [00:01<00:00,  7.87it/s]"
     ]
    },
    {
     "name": "stdout",
     "output_type": "stream",
     "text": [
      "                   all      0.907          1\n"
     ]
    },
    {
     "name": "stderr",
     "output_type": "stream",
     "text": [
      "\n"
     ]
    },
    {
     "name": "stdout",
     "output_type": "stream",
     "text": [
      "\n",
      "      Epoch    GPU_mem       loss  Instances       Size\n"
     ]
    },
    {
     "name": "stderr",
     "output_type": "stream",
     "text": [
      "      2/100      1.58G     0.3757         15        640: 100%|██████████| 56/56 [00:05<00:00,  9.70it/s]\n",
      "               classes   top1_acc   top5_acc: 100%|██████████| 8/8 [00:00<00:00, 14.59it/s]"
     ]
    },
    {
     "name": "stdout",
     "output_type": "stream",
     "text": [
      "                   all      0.933          1\n"
     ]
    },
    {
     "name": "stderr",
     "output_type": "stream",
     "text": [
      "\n"
     ]
    },
    {
     "name": "stdout",
     "output_type": "stream",
     "text": [
      "\n",
      "      Epoch    GPU_mem       loss  Instances       Size\n"
     ]
    },
    {
     "name": "stderr",
     "output_type": "stream",
     "text": [
      "      3/100      1.59G     0.3365         15        640: 100%|██████████| 56/56 [00:05<00:00, 10.00it/s]\n",
      "               classes   top1_acc   top5_acc: 100%|██████████| 8/8 [00:00<00:00, 10.86it/s]"
     ]
    },
    {
     "name": "stdout",
     "output_type": "stream",
     "text": [
      "                   all      0.956          1\n"
     ]
    },
    {
     "name": "stderr",
     "output_type": "stream",
     "text": [
      "\n"
     ]
    },
    {
     "name": "stdout",
     "output_type": "stream",
     "text": [
      "\n",
      "      Epoch    GPU_mem       loss  Instances       Size\n"
     ]
    },
    {
     "name": "stderr",
     "output_type": "stream",
     "text": [
      "      4/100      1.58G     0.3202         15        640: 100%|██████████| 56/56 [00:05<00:00,  9.74it/s]\n",
      "               classes   top1_acc   top5_acc: 100%|██████████| 8/8 [00:00<00:00, 12.96it/s]"
     ]
    },
    {
     "name": "stdout",
     "output_type": "stream",
     "text": [
      "                   all      0.969          1\n"
     ]
    },
    {
     "name": "stderr",
     "output_type": "stream",
     "text": [
      "\n"
     ]
    },
    {
     "name": "stdout",
     "output_type": "stream",
     "text": [
      "\n",
      "      Epoch    GPU_mem       loss  Instances       Size\n"
     ]
    },
    {
     "name": "stderr",
     "output_type": "stream",
     "text": [
      "      5/100      1.58G     0.2462         15        640: 100%|██████████| 56/56 [00:05<00:00,  9.57it/s]\n",
      "               classes   top1_acc   top5_acc: 100%|██████████| 8/8 [00:00<00:00, 13.56it/s]"
     ]
    },
    {
     "name": "stdout",
     "output_type": "stream",
     "text": [
      "                   all      0.973          1\n"
     ]
    },
    {
     "name": "stderr",
     "output_type": "stream",
     "text": [
      "\n"
     ]
    },
    {
     "name": "stdout",
     "output_type": "stream",
     "text": [
      "\n",
      "      Epoch    GPU_mem       loss  Instances       Size\n"
     ]
    },
    {
     "name": "stderr",
     "output_type": "stream",
     "text": [
      "      6/100      1.58G     0.2302         15        640: 100%|██████████| 56/56 [00:05<00:00, 10.24it/s]\n",
      "               classes   top1_acc   top5_acc: 100%|██████████| 8/8 [00:00<00:00, 13.09it/s]"
     ]
    },
    {
     "name": "stdout",
     "output_type": "stream",
     "text": [
      "                   all      0.964          1\n"
     ]
    },
    {
     "name": "stderr",
     "output_type": "stream",
     "text": [
      "\n"
     ]
    },
    {
     "name": "stdout",
     "output_type": "stream",
     "text": [
      "\n",
      "      Epoch    GPU_mem       loss  Instances       Size\n"
     ]
    },
    {
     "name": "stderr",
     "output_type": "stream",
     "text": [
      "      7/100      1.58G     0.1898         15        640: 100%|██████████| 56/56 [00:06<00:00,  9.14it/s]\n",
      "               classes   top1_acc   top5_acc: 100%|██████████| 8/8 [00:00<00:00, 13.66it/s]"
     ]
    },
    {
     "name": "stdout",
     "output_type": "stream",
     "text": [
      "                   all      0.964          1\n"
     ]
    },
    {
     "name": "stderr",
     "output_type": "stream",
     "text": [
      "\n"
     ]
    },
    {
     "name": "stdout",
     "output_type": "stream",
     "text": [
      "\n",
      "      Epoch    GPU_mem       loss  Instances       Size\n"
     ]
    },
    {
     "name": "stderr",
     "output_type": "stream",
     "text": [
      "      8/100      1.58G     0.1618         15        640: 100%|██████████| 56/56 [00:05<00:00,  9.85it/s]\n",
      "               classes   top1_acc   top5_acc: 100%|██████████| 8/8 [00:00<00:00, 12.48it/s]"
     ]
    },
    {
     "name": "stdout",
     "output_type": "stream",
     "text": [
      "                   all      0.956          1\n"
     ]
    },
    {
     "name": "stderr",
     "output_type": "stream",
     "text": [
      "\n"
     ]
    },
    {
     "name": "stdout",
     "output_type": "stream",
     "text": [
      "\n",
      "      Epoch    GPU_mem       loss  Instances       Size\n"
     ]
    },
    {
     "name": "stderr",
     "output_type": "stream",
     "text": [
      "      9/100      1.58G     0.1552         15        640: 100%|██████████| 56/56 [00:05<00:00,  9.58it/s]\n",
      "               classes   top1_acc   top5_acc: 100%|██████████| 8/8 [00:00<00:00, 13.40it/s]"
     ]
    },
    {
     "name": "stdout",
     "output_type": "stream",
     "text": [
      "                   all      0.942          1\n"
     ]
    },
    {
     "name": "stderr",
     "output_type": "stream",
     "text": [
      "\n"
     ]
    },
    {
     "name": "stdout",
     "output_type": "stream",
     "text": [
      "\n",
      "      Epoch    GPU_mem       loss  Instances       Size\n"
     ]
    },
    {
     "name": "stderr",
     "output_type": "stream",
     "text": [
      "     10/100      1.58G     0.2037         15        640: 100%|██████████| 56/56 [00:05<00:00,  9.89it/s]\n",
      "               classes   top1_acc   top5_acc: 100%|██████████| 8/8 [00:00<00:00, 13.65it/s]"
     ]
    },
    {
     "name": "stdout",
     "output_type": "stream",
     "text": [
      "                   all      0.978          1\n"
     ]
    },
    {
     "name": "stderr",
     "output_type": "stream",
     "text": [
      "\n"
     ]
    },
    {
     "name": "stdout",
     "output_type": "stream",
     "text": [
      "\n",
      "      Epoch    GPU_mem       loss  Instances       Size\n"
     ]
    },
    {
     "name": "stderr",
     "output_type": "stream",
     "text": [
      "     11/100      1.58G     0.1651         15        640: 100%|██████████| 56/56 [00:05<00:00, 10.26it/s]\n",
      "               classes   top1_acc   top5_acc: 100%|██████████| 8/8 [00:00<00:00, 13.20it/s]"
     ]
    },
    {
     "name": "stdout",
     "output_type": "stream",
     "text": [
      "                   all       0.96          1\n"
     ]
    },
    {
     "name": "stderr",
     "output_type": "stream",
     "text": [
      "\n"
     ]
    },
    {
     "name": "stdout",
     "output_type": "stream",
     "text": [
      "\n",
      "      Epoch    GPU_mem       loss  Instances       Size\n"
     ]
    },
    {
     "name": "stderr",
     "output_type": "stream",
     "text": [
      "     12/100      1.58G     0.1273         15        640: 100%|██████████| 56/56 [00:05<00:00, 10.06it/s]\n",
      "               classes   top1_acc   top5_acc: 100%|██████████| 8/8 [00:00<00:00, 13.23it/s]"
     ]
    },
    {
     "name": "stdout",
     "output_type": "stream",
     "text": [
      "                   all      0.982          1\n"
     ]
    },
    {
     "name": "stderr",
     "output_type": "stream",
     "text": [
      "\n"
     ]
    },
    {
     "name": "stdout",
     "output_type": "stream",
     "text": [
      "\n",
      "      Epoch    GPU_mem       loss  Instances       Size\n"
     ]
    },
    {
     "name": "stderr",
     "output_type": "stream",
     "text": [
      "     13/100      1.58G     0.1311         15        640: 100%|██████████| 56/56 [00:05<00:00, 10.27it/s]\n",
      "               classes   top1_acc   top5_acc: 100%|██████████| 8/8 [00:00<00:00, 12.95it/s]"
     ]
    },
    {
     "name": "stdout",
     "output_type": "stream",
     "text": [
      "                   all      0.982          1\n"
     ]
    },
    {
     "name": "stderr",
     "output_type": "stream",
     "text": [
      "\n"
     ]
    },
    {
     "name": "stdout",
     "output_type": "stream",
     "text": [
      "\n",
      "      Epoch    GPU_mem       loss  Instances       Size\n"
     ]
    },
    {
     "name": "stderr",
     "output_type": "stream",
     "text": [
      "     14/100      1.58G     0.1468         15        640: 100%|██████████| 56/56 [00:05<00:00, 10.02it/s]\n",
      "               classes   top1_acc   top5_acc: 100%|██████████| 8/8 [00:00<00:00, 12.64it/s]"
     ]
    },
    {
     "name": "stdout",
     "output_type": "stream",
     "text": [
      "                   all      0.969          1\n"
     ]
    },
    {
     "name": "stderr",
     "output_type": "stream",
     "text": [
      "\n"
     ]
    },
    {
     "name": "stdout",
     "output_type": "stream",
     "text": [
      "\n",
      "      Epoch    GPU_mem       loss  Instances       Size\n"
     ]
    },
    {
     "name": "stderr",
     "output_type": "stream",
     "text": [
      "     15/100      1.58G     0.1401         15        640: 100%|██████████| 56/56 [00:05<00:00, 10.50it/s]\n",
      "               classes   top1_acc   top5_acc: 100%|██████████| 8/8 [00:00<00:00, 13.12it/s]"
     ]
    },
    {
     "name": "stdout",
     "output_type": "stream",
     "text": [
      "                   all       0.96          1\n"
     ]
    },
    {
     "name": "stderr",
     "output_type": "stream",
     "text": [
      "\n"
     ]
    },
    {
     "name": "stdout",
     "output_type": "stream",
     "text": [
      "\n",
      "      Epoch    GPU_mem       loss  Instances       Size\n"
     ]
    },
    {
     "name": "stderr",
     "output_type": "stream",
     "text": [
      "     16/100      1.58G      0.121         15        640: 100%|██████████| 56/56 [00:05<00:00, 10.21it/s]\n",
      "               classes   top1_acc   top5_acc: 100%|██████████| 8/8 [00:00<00:00, 13.70it/s]"
     ]
    },
    {
     "name": "stdout",
     "output_type": "stream",
     "text": [
      "                   all      0.982          1\n"
     ]
    },
    {
     "name": "stderr",
     "output_type": "stream",
     "text": [
      "\n"
     ]
    },
    {
     "name": "stdout",
     "output_type": "stream",
     "text": [
      "\n",
      "      Epoch    GPU_mem       loss  Instances       Size\n"
     ]
    },
    {
     "name": "stderr",
     "output_type": "stream",
     "text": [
      "     17/100      1.58G    0.09659         15        640: 100%|██████████| 56/56 [00:05<00:00, 10.10it/s]\n",
      "               classes   top1_acc   top5_acc: 100%|██████████| 8/8 [00:00<00:00, 14.61it/s]"
     ]
    },
    {
     "name": "stdout",
     "output_type": "stream",
     "text": [
      "                   all      0.902          1\n"
     ]
    },
    {
     "name": "stderr",
     "output_type": "stream",
     "text": [
      "\n"
     ]
    },
    {
     "name": "stdout",
     "output_type": "stream",
     "text": [
      "\n",
      "      Epoch    GPU_mem       loss  Instances       Size\n"
     ]
    },
    {
     "name": "stderr",
     "output_type": "stream",
     "text": [
      "     18/100      1.58G     0.1011         15        640: 100%|██████████| 56/56 [00:05<00:00, 10.42it/s]\n",
      "               classes   top1_acc   top5_acc: 100%|██████████| 8/8 [00:00<00:00, 14.50it/s]"
     ]
    },
    {
     "name": "stdout",
     "output_type": "stream",
     "text": [
      "                   all      0.978          1\n"
     ]
    },
    {
     "name": "stderr",
     "output_type": "stream",
     "text": [
      "\n"
     ]
    },
    {
     "name": "stdout",
     "output_type": "stream",
     "text": [
      "\n",
      "      Epoch    GPU_mem       loss  Instances       Size\n"
     ]
    },
    {
     "name": "stderr",
     "output_type": "stream",
     "text": [
      "     19/100      1.58G    0.09704         15        640: 100%|██████████| 56/56 [00:05<00:00, 10.08it/s]\n",
      "               classes   top1_acc   top5_acc: 100%|██████████| 8/8 [00:00<00:00, 12.97it/s]"
     ]
    },
    {
     "name": "stdout",
     "output_type": "stream",
     "text": [
      "                   all      0.973          1\n"
     ]
    },
    {
     "name": "stderr",
     "output_type": "stream",
     "text": [
      "\n"
     ]
    },
    {
     "name": "stdout",
     "output_type": "stream",
     "text": [
      "\n",
      "      Epoch    GPU_mem       loss  Instances       Size\n"
     ]
    },
    {
     "name": "stderr",
     "output_type": "stream",
     "text": [
      "     20/100      1.58G    0.08822         15        640: 100%|██████████| 56/56 [00:05<00:00, 10.36it/s]\n",
      "               classes   top1_acc   top5_acc: 100%|██████████| 8/8 [00:00<00:00, 14.49it/s]"
     ]
    },
    {
     "name": "stdout",
     "output_type": "stream",
     "text": [
      "                   all      0.969          1\n"
     ]
    },
    {
     "name": "stderr",
     "output_type": "stream",
     "text": [
      "\n"
     ]
    },
    {
     "name": "stdout",
     "output_type": "stream",
     "text": [
      "\n",
      "      Epoch    GPU_mem       loss  Instances       Size\n"
     ]
    },
    {
     "name": "stderr",
     "output_type": "stream",
     "text": [
      "     21/100      1.58G    0.09358         15        640: 100%|██████████| 56/56 [00:05<00:00,  9.95it/s]\n",
      "               classes   top1_acc   top5_acc: 100%|██████████| 8/8 [00:00<00:00, 13.81it/s]"
     ]
    },
    {
     "name": "stdout",
     "output_type": "stream",
     "text": [
      "                   all      0.973          1\n"
     ]
    },
    {
     "name": "stderr",
     "output_type": "stream",
     "text": [
      "\n"
     ]
    },
    {
     "name": "stdout",
     "output_type": "stream",
     "text": [
      "\n",
      "      Epoch    GPU_mem       loss  Instances       Size\n"
     ]
    },
    {
     "name": "stderr",
     "output_type": "stream",
     "text": [
      "     22/100      1.58G    0.06986         15        640: 100%|██████████| 56/56 [00:05<00:00,  9.91it/s]\n",
      "               classes   top1_acc   top5_acc: 100%|██████████| 8/8 [00:00<00:00, 14.16it/s]"
     ]
    },
    {
     "name": "stdout",
     "output_type": "stream",
     "text": [
      "                   all      0.982          1\n"
     ]
    },
    {
     "name": "stderr",
     "output_type": "stream",
     "text": [
      "\n"
     ]
    },
    {
     "name": "stdout",
     "output_type": "stream",
     "text": [
      "\n",
      "      Epoch    GPU_mem       loss  Instances       Size\n"
     ]
    },
    {
     "name": "stderr",
     "output_type": "stream",
     "text": [
      "     23/100      1.58G    0.09265         15        640: 100%|██████████| 56/56 [00:05<00:00, 10.65it/s]\n",
      "               classes   top1_acc   top5_acc: 100%|██████████| 8/8 [00:00<00:00, 12.40it/s]"
     ]
    },
    {
     "name": "stdout",
     "output_type": "stream",
     "text": [
      "                   all      0.987          1\n"
     ]
    },
    {
     "name": "stderr",
     "output_type": "stream",
     "text": [
      "\n"
     ]
    },
    {
     "name": "stdout",
     "output_type": "stream",
     "text": [
      "\n",
      "      Epoch    GPU_mem       loss  Instances       Size\n"
     ]
    },
    {
     "name": "stderr",
     "output_type": "stream",
     "text": [
      "     24/100      1.58G    0.08407         15        640: 100%|██████████| 56/56 [00:05<00:00,  9.43it/s]\n",
      "               classes   top1_acc   top5_acc: 100%|██████████| 8/8 [00:00<00:00, 13.50it/s]"
     ]
    },
    {
     "name": "stdout",
     "output_type": "stream",
     "text": [
      "                   all      0.969          1\n"
     ]
    },
    {
     "name": "stderr",
     "output_type": "stream",
     "text": [
      "\n"
     ]
    },
    {
     "name": "stdout",
     "output_type": "stream",
     "text": [
      "\n",
      "      Epoch    GPU_mem       loss  Instances       Size\n"
     ]
    },
    {
     "name": "stderr",
     "output_type": "stream",
     "text": [
      "     25/100      1.58G    0.08783         15        640: 100%|██████████| 56/56 [00:05<00:00, 10.14it/s]\n",
      "               classes   top1_acc   top5_acc: 100%|██████████| 8/8 [00:00<00:00, 12.29it/s]"
     ]
    },
    {
     "name": "stdout",
     "output_type": "stream",
     "text": [
      "                   all      0.987          1\n"
     ]
    },
    {
     "name": "stderr",
     "output_type": "stream",
     "text": [
      "\n"
     ]
    },
    {
     "name": "stdout",
     "output_type": "stream",
     "text": [
      "\n",
      "      Epoch    GPU_mem       loss  Instances       Size\n"
     ]
    },
    {
     "name": "stderr",
     "output_type": "stream",
     "text": [
      "     26/100      1.58G    0.08828         15        640: 100%|██████████| 56/56 [00:05<00:00,  9.89it/s]\n",
      "               classes   top1_acc   top5_acc: 100%|██████████| 8/8 [00:00<00:00, 13.63it/s]"
     ]
    },
    {
     "name": "stdout",
     "output_type": "stream",
     "text": [
      "                   all      0.982          1\n"
     ]
    },
    {
     "name": "stderr",
     "output_type": "stream",
     "text": [
      "\n"
     ]
    },
    {
     "name": "stdout",
     "output_type": "stream",
     "text": [
      "\n",
      "      Epoch    GPU_mem       loss  Instances       Size\n"
     ]
    },
    {
     "name": "stderr",
     "output_type": "stream",
     "text": [
      "     27/100      1.58G    0.09764         15        640: 100%|██████████| 56/56 [00:06<00:00,  9.20it/s]\n",
      "               classes   top1_acc   top5_acc: 100%|██████████| 8/8 [00:00<00:00, 14.08it/s]"
     ]
    },
    {
     "name": "stdout",
     "output_type": "stream",
     "text": [
      "                   all      0.978          1\n"
     ]
    },
    {
     "name": "stderr",
     "output_type": "stream",
     "text": [
      "\n"
     ]
    },
    {
     "name": "stdout",
     "output_type": "stream",
     "text": [
      "\n",
      "      Epoch    GPU_mem       loss  Instances       Size\n"
     ]
    },
    {
     "name": "stderr",
     "output_type": "stream",
     "text": [
      "     28/100      1.58G    0.08367         15        640: 100%|██████████| 56/56 [00:05<00:00, 10.13it/s]\n",
      "               classes   top1_acc   top5_acc: 100%|██████████| 8/8 [00:00<00:00, 13.99it/s]"
     ]
    },
    {
     "name": "stdout",
     "output_type": "stream",
     "text": [
      "                   all      0.978          1\n"
     ]
    },
    {
     "name": "stderr",
     "output_type": "stream",
     "text": [
      "\n"
     ]
    },
    {
     "name": "stdout",
     "output_type": "stream",
     "text": [
      "\n",
      "      Epoch    GPU_mem       loss  Instances       Size\n"
     ]
    },
    {
     "name": "stderr",
     "output_type": "stream",
     "text": [
      "     29/100      1.58G    0.08351         15        640: 100%|██████████| 56/56 [00:05<00:00, 10.49it/s]\n",
      "               classes   top1_acc   top5_acc: 100%|██████████| 8/8 [00:00<00:00, 14.11it/s]"
     ]
    },
    {
     "name": "stdout",
     "output_type": "stream",
     "text": [
      "                   all      0.982          1\n"
     ]
    },
    {
     "name": "stderr",
     "output_type": "stream",
     "text": [
      "\n"
     ]
    },
    {
     "name": "stdout",
     "output_type": "stream",
     "text": [
      "\n",
      "      Epoch    GPU_mem       loss  Instances       Size\n"
     ]
    },
    {
     "name": "stderr",
     "output_type": "stream",
     "text": [
      "     30/100      1.58G    0.06564         15        640: 100%|██████████| 56/56 [00:05<00:00,  9.61it/s]\n",
      "               classes   top1_acc   top5_acc: 100%|██████████| 8/8 [00:00<00:00, 13.24it/s]"
     ]
    },
    {
     "name": "stdout",
     "output_type": "stream",
     "text": [
      "                   all      0.982          1\n"
     ]
    },
    {
     "name": "stderr",
     "output_type": "stream",
     "text": [
      "\n"
     ]
    },
    {
     "name": "stdout",
     "output_type": "stream",
     "text": [
      "\n",
      "      Epoch    GPU_mem       loss  Instances       Size\n"
     ]
    },
    {
     "name": "stderr",
     "output_type": "stream",
     "text": [
      "     31/100      1.58G    0.06254         15        640: 100%|██████████| 56/56 [00:08<00:00,  6.74it/s]\n",
      "               classes   top1_acc   top5_acc: 100%|██████████| 8/8 [00:00<00:00, 13.94it/s]"
     ]
    },
    {
     "name": "stdout",
     "output_type": "stream",
     "text": [
      "                   all      0.987          1\n"
     ]
    },
    {
     "name": "stderr",
     "output_type": "stream",
     "text": [
      "\n"
     ]
    },
    {
     "name": "stdout",
     "output_type": "stream",
     "text": [
      "\n",
      "      Epoch    GPU_mem       loss  Instances       Size\n"
     ]
    },
    {
     "name": "stderr",
     "output_type": "stream",
     "text": [
      "     32/100      1.58G    0.06346         15        640: 100%|██████████| 56/56 [00:07<00:00,  7.86it/s]\n",
      "               classes   top1_acc   top5_acc: 100%|██████████| 8/8 [00:00<00:00, 14.74it/s]"
     ]
    },
    {
     "name": "stdout",
     "output_type": "stream",
     "text": [
      "                   all      0.978          1\n"
     ]
    },
    {
     "name": "stderr",
     "output_type": "stream",
     "text": [
      "\n"
     ]
    },
    {
     "name": "stdout",
     "output_type": "stream",
     "text": [
      "\n",
      "      Epoch    GPU_mem       loss  Instances       Size\n"
     ]
    },
    {
     "name": "stderr",
     "output_type": "stream",
     "text": [
      "     33/100      1.58G    0.06935         15        640: 100%|██████████| 56/56 [00:05<00:00,  9.38it/s]\n",
      "               classes   top1_acc   top5_acc: 100%|██████████| 8/8 [00:00<00:00, 12.56it/s]"
     ]
    },
    {
     "name": "stdout",
     "output_type": "stream",
     "text": [
      "                   all      0.982          1\n"
     ]
    },
    {
     "name": "stderr",
     "output_type": "stream",
     "text": [
      "\n"
     ]
    },
    {
     "name": "stdout",
     "output_type": "stream",
     "text": [
      "\n",
      "      Epoch    GPU_mem       loss  Instances       Size\n"
     ]
    },
    {
     "name": "stderr",
     "output_type": "stream",
     "text": [
      "     34/100      1.58G    0.06198         15        640: 100%|██████████| 56/56 [00:06<00:00,  8.38it/s]\n",
      "               classes   top1_acc   top5_acc: 100%|██████████| 8/8 [00:00<00:00, 12.08it/s]\n"
     ]
    },
    {
     "name": "stdout",
     "output_type": "stream",
     "text": [
      "                   all      0.987          1\n",
      "\n",
      "      Epoch    GPU_mem       loss  Instances       Size\n"
     ]
    },
    {
     "name": "stderr",
     "output_type": "stream",
     "text": [
      "     35/100      1.58G     0.0506         15        640: 100%|██████████| 56/56 [00:07<00:00,  7.70it/s]\n",
      "               classes   top1_acc   top5_acc: 100%|██████████| 8/8 [00:00<00:00, 13.78it/s]"
     ]
    },
    {
     "name": "stdout",
     "output_type": "stream",
     "text": [
      "                   all      0.973          1\n"
     ]
    },
    {
     "name": "stderr",
     "output_type": "stream",
     "text": [
      "\n"
     ]
    },
    {
     "name": "stdout",
     "output_type": "stream",
     "text": [
      "\n",
      "      Epoch    GPU_mem       loss  Instances       Size\n"
     ]
    },
    {
     "name": "stderr",
     "output_type": "stream",
     "text": [
      "     36/100      1.58G    0.04962         15        640: 100%|██████████| 56/56 [00:06<00:00,  8.58it/s]\n",
      "               classes   top1_acc   top5_acc: 100%|██████████| 8/8 [00:00<00:00, 14.12it/s]"
     ]
    },
    {
     "name": "stdout",
     "output_type": "stream",
     "text": [
      "                   all      0.982          1\n"
     ]
    },
    {
     "name": "stderr",
     "output_type": "stream",
     "text": [
      "\n"
     ]
    },
    {
     "name": "stdout",
     "output_type": "stream",
     "text": [
      "\n",
      "      Epoch    GPU_mem       loss  Instances       Size\n"
     ]
    },
    {
     "name": "stderr",
     "output_type": "stream",
     "text": [
      "     37/100      1.58G    0.03923         15        640: 100%|██████████| 56/56 [00:06<00:00,  8.79it/s]\n",
      "               classes   top1_acc   top5_acc: 100%|██████████| 8/8 [00:00<00:00, 12.70it/s]"
     ]
    },
    {
     "name": "stdout",
     "output_type": "stream",
     "text": [
      "                   all      0.982          1\n"
     ]
    },
    {
     "name": "stderr",
     "output_type": "stream",
     "text": [
      "\n"
     ]
    },
    {
     "name": "stdout",
     "output_type": "stream",
     "text": [
      "\n",
      "      Epoch    GPU_mem       loss  Instances       Size\n"
     ]
    },
    {
     "name": "stderr",
     "output_type": "stream",
     "text": [
      "     38/100      1.58G     0.0348         15        640: 100%|██████████| 56/56 [00:05<00:00,  9.51it/s]\n",
      "               classes   top1_acc   top5_acc: 100%|██████████| 8/8 [00:00<00:00, 13.52it/s]"
     ]
    },
    {
     "name": "stdout",
     "output_type": "stream",
     "text": [
      "                   all      0.996          1\n"
     ]
    },
    {
     "name": "stderr",
     "output_type": "stream",
     "text": [
      "\n"
     ]
    },
    {
     "name": "stdout",
     "output_type": "stream",
     "text": [
      "\n",
      "      Epoch    GPU_mem       loss  Instances       Size\n"
     ]
    },
    {
     "name": "stderr",
     "output_type": "stream",
     "text": [
      "     39/100      1.58G    0.04491         15        640: 100%|██████████| 56/56 [00:06<00:00,  8.05it/s]\n",
      "               classes   top1_acc   top5_acc: 100%|██████████| 8/8 [00:00<00:00, 12.73it/s]"
     ]
    },
    {
     "name": "stdout",
     "output_type": "stream",
     "text": [
      "                   all      0.978          1\n"
     ]
    },
    {
     "name": "stderr",
     "output_type": "stream",
     "text": [
      "\n"
     ]
    },
    {
     "name": "stdout",
     "output_type": "stream",
     "text": [
      "\n",
      "      Epoch    GPU_mem       loss  Instances       Size\n"
     ]
    },
    {
     "name": "stderr",
     "output_type": "stream",
     "text": [
      "     40/100      1.58G    0.04787         15        640: 100%|██████████| 56/56 [00:06<00:00,  8.11it/s]\n",
      "               classes   top1_acc   top5_acc: 100%|██████████| 8/8 [00:00<00:00, 13.73it/s]"
     ]
    },
    {
     "name": "stdout",
     "output_type": "stream",
     "text": [
      "                   all      0.982          1\n"
     ]
    },
    {
     "name": "stderr",
     "output_type": "stream",
     "text": [
      "\n"
     ]
    },
    {
     "name": "stdout",
     "output_type": "stream",
     "text": [
      "\n",
      "      Epoch    GPU_mem       loss  Instances       Size\n"
     ]
    },
    {
     "name": "stderr",
     "output_type": "stream",
     "text": [
      "     41/100      1.58G    0.04045         15        640: 100%|██████████| 56/56 [00:06<00:00,  8.83it/s]\n",
      "               classes   top1_acc   top5_acc: 100%|██████████| 8/8 [00:00<00:00, 14.81it/s]"
     ]
    },
    {
     "name": "stdout",
     "output_type": "stream",
     "text": [
      "                   all      0.973          1\n"
     ]
    },
    {
     "name": "stderr",
     "output_type": "stream",
     "text": [
      "\n"
     ]
    },
    {
     "name": "stdout",
     "output_type": "stream",
     "text": [
      "\n",
      "      Epoch    GPU_mem       loss  Instances       Size\n"
     ]
    },
    {
     "name": "stderr",
     "output_type": "stream",
     "text": [
      "     42/100      1.58G    0.03533         15        640: 100%|██████████| 56/56 [00:06<00:00,  8.49it/s]\n",
      "               classes   top1_acc   top5_acc: 100%|██████████| 8/8 [00:00<00:00, 14.85it/s]"
     ]
    },
    {
     "name": "stdout",
     "output_type": "stream",
     "text": [
      "                   all      0.978          1\n"
     ]
    },
    {
     "name": "stderr",
     "output_type": "stream",
     "text": [
      "\n"
     ]
    },
    {
     "name": "stdout",
     "output_type": "stream",
     "text": [
      "\n",
      "      Epoch    GPU_mem       loss  Instances       Size\n"
     ]
    },
    {
     "name": "stderr",
     "output_type": "stream",
     "text": [
      "     43/100      1.58G    0.03964         15        640: 100%|██████████| 56/56 [00:06<00:00,  9.15it/s]\n",
      "               classes   top1_acc   top5_acc: 100%|██████████| 8/8 [00:00<00:00, 13.63it/s]"
     ]
    },
    {
     "name": "stdout",
     "output_type": "stream",
     "text": [
      "                   all      0.987          1\n"
     ]
    },
    {
     "name": "stderr",
     "output_type": "stream",
     "text": [
      "\n"
     ]
    },
    {
     "name": "stdout",
     "output_type": "stream",
     "text": [
      "\n",
      "      Epoch    GPU_mem       loss  Instances       Size\n"
     ]
    },
    {
     "name": "stderr",
     "output_type": "stream",
     "text": [
      "     44/100      1.58G    0.05657         15        640: 100%|██████████| 56/56 [00:06<00:00,  8.47it/s]\n",
      "               classes   top1_acc   top5_acc: 100%|██████████| 8/8 [00:00<00:00, 12.90it/s]"
     ]
    },
    {
     "name": "stdout",
     "output_type": "stream",
     "text": [
      "                   all      0.973          1\n"
     ]
    },
    {
     "name": "stderr",
     "output_type": "stream",
     "text": [
      "\n"
     ]
    },
    {
     "name": "stdout",
     "output_type": "stream",
     "text": [
      "\n",
      "      Epoch    GPU_mem       loss  Instances       Size\n"
     ]
    },
    {
     "name": "stderr",
     "output_type": "stream",
     "text": [
      "     45/100      1.58G     0.0403         15        640: 100%|██████████| 56/56 [00:06<00:00,  9.21it/s]\n",
      "               classes   top1_acc   top5_acc: 100%|██████████| 8/8 [00:00<00:00, 11.97it/s]"
     ]
    },
    {
     "name": "stdout",
     "output_type": "stream",
     "text": [
      "                   all       0.96          1\n"
     ]
    },
    {
     "name": "stderr",
     "output_type": "stream",
     "text": [
      "\n"
     ]
    },
    {
     "name": "stdout",
     "output_type": "stream",
     "text": [
      "\n",
      "      Epoch    GPU_mem       loss  Instances       Size\n"
     ]
    },
    {
     "name": "stderr",
     "output_type": "stream",
     "text": [
      "     46/100      1.58G    0.04101         15        640: 100%|██████████| 56/56 [00:05<00:00, 10.34it/s]\n",
      "               classes   top1_acc   top5_acc: 100%|██████████| 8/8 [00:00<00:00, 13.03it/s]"
     ]
    },
    {
     "name": "stdout",
     "output_type": "stream",
     "text": [
      "                   all      0.987          1\n"
     ]
    },
    {
     "name": "stderr",
     "output_type": "stream",
     "text": [
      "\n"
     ]
    },
    {
     "name": "stdout",
     "output_type": "stream",
     "text": [
      "\n",
      "      Epoch    GPU_mem       loss  Instances       Size\n"
     ]
    },
    {
     "name": "stderr",
     "output_type": "stream",
     "text": [
      "     47/100      1.58G    0.05028         15        640: 100%|██████████| 56/56 [00:05<00:00, 10.04it/s]\n",
      "               classes   top1_acc   top5_acc: 100%|██████████| 8/8 [00:00<00:00, 14.21it/s]"
     ]
    },
    {
     "name": "stdout",
     "output_type": "stream",
     "text": [
      "                   all      0.978          1\n"
     ]
    },
    {
     "name": "stderr",
     "output_type": "stream",
     "text": [
      "\n"
     ]
    },
    {
     "name": "stdout",
     "output_type": "stream",
     "text": [
      "\n",
      "      Epoch    GPU_mem       loss  Instances       Size\n"
     ]
    },
    {
     "name": "stderr",
     "output_type": "stream",
     "text": [
      "     48/100      1.58G     0.0276         15        640: 100%|██████████| 56/56 [00:05<00:00, 10.15it/s]\n",
      "               classes   top1_acc   top5_acc: 100%|██████████| 8/8 [00:00<00:00, 13.42it/s]"
     ]
    },
    {
     "name": "stdout",
     "output_type": "stream",
     "text": [
      "                   all      0.996          1\n"
     ]
    },
    {
     "name": "stderr",
     "output_type": "stream",
     "text": [
      "\n"
     ]
    },
    {
     "name": "stdout",
     "output_type": "stream",
     "text": [
      "\n",
      "      Epoch    GPU_mem       loss  Instances       Size\n"
     ]
    },
    {
     "name": "stderr",
     "output_type": "stream",
     "text": [
      "     49/100      1.58G    0.03261         15        640: 100%|██████████| 56/56 [00:05<00:00,  9.65it/s]\n",
      "               classes   top1_acc   top5_acc: 100%|██████████| 8/8 [00:00<00:00, 14.07it/s]"
     ]
    },
    {
     "name": "stdout",
     "output_type": "stream",
     "text": [
      "                   all      0.987          1\n"
     ]
    },
    {
     "name": "stderr",
     "output_type": "stream",
     "text": [
      "\n"
     ]
    },
    {
     "name": "stdout",
     "output_type": "stream",
     "text": [
      "\n",
      "      Epoch    GPU_mem       loss  Instances       Size\n"
     ]
    },
    {
     "name": "stderr",
     "output_type": "stream",
     "text": [
      "     50/100      1.58G    0.02187         15        640: 100%|██████████| 56/56 [00:05<00:00, 10.10it/s]\n",
      "               classes   top1_acc   top5_acc: 100%|██████████| 8/8 [00:00<00:00, 12.69it/s]"
     ]
    },
    {
     "name": "stdout",
     "output_type": "stream",
     "text": [
      "                   all      0.996          1\n"
     ]
    },
    {
     "name": "stderr",
     "output_type": "stream",
     "text": [
      "\n"
     ]
    },
    {
     "name": "stdout",
     "output_type": "stream",
     "text": [
      "\n",
      "      Epoch    GPU_mem       loss  Instances       Size\n"
     ]
    },
    {
     "name": "stderr",
     "output_type": "stream",
     "text": [
      "     51/100      1.58G    0.02873         15        640: 100%|██████████| 56/56 [00:05<00:00, 10.21it/s]\n",
      "               classes   top1_acc   top5_acc: 100%|██████████| 8/8 [00:00<00:00, 12.81it/s]"
     ]
    },
    {
     "name": "stdout",
     "output_type": "stream",
     "text": [
      "                   all      0.987          1\n"
     ]
    },
    {
     "name": "stderr",
     "output_type": "stream",
     "text": [
      "\n"
     ]
    },
    {
     "name": "stdout",
     "output_type": "stream",
     "text": [
      "\n",
      "      Epoch    GPU_mem       loss  Instances       Size\n"
     ]
    },
    {
     "name": "stderr",
     "output_type": "stream",
     "text": [
      "     52/100      1.58G    0.03398         15        640: 100%|██████████| 56/56 [00:06<00:00,  8.92it/s]\n",
      "               classes   top1_acc   top5_acc: 100%|██████████| 8/8 [00:00<00:00, 11.82it/s]"
     ]
    },
    {
     "name": "stdout",
     "output_type": "stream",
     "text": [
      "                   all      0.987          1\n"
     ]
    },
    {
     "name": "stderr",
     "output_type": "stream",
     "text": [
      "\n"
     ]
    },
    {
     "name": "stdout",
     "output_type": "stream",
     "text": [
      "\n",
      "      Epoch    GPU_mem       loss  Instances       Size\n"
     ]
    },
    {
     "name": "stderr",
     "output_type": "stream",
     "text": [
      "     53/100      1.58G    0.03557         15        640: 100%|██████████| 56/56 [00:05<00:00, 10.00it/s]\n",
      "               classes   top1_acc   top5_acc: 100%|██████████| 8/8 [00:00<00:00, 13.57it/s]"
     ]
    },
    {
     "name": "stdout",
     "output_type": "stream",
     "text": [
      "                   all      0.996          1\n"
     ]
    },
    {
     "name": "stderr",
     "output_type": "stream",
     "text": [
      "\n"
     ]
    },
    {
     "name": "stdout",
     "output_type": "stream",
     "text": [
      "\n",
      "      Epoch    GPU_mem       loss  Instances       Size\n"
     ]
    },
    {
     "name": "stderr",
     "output_type": "stream",
     "text": [
      "     54/100      1.58G    0.04169         15        640: 100%|██████████| 56/56 [00:05<00:00, 10.17it/s]\n",
      "               classes   top1_acc   top5_acc: 100%|██████████| 8/8 [00:00<00:00, 14.03it/s]"
     ]
    },
    {
     "name": "stdout",
     "output_type": "stream",
     "text": [
      "                   all      0.982          1\n"
     ]
    },
    {
     "name": "stderr",
     "output_type": "stream",
     "text": [
      "\n"
     ]
    },
    {
     "name": "stdout",
     "output_type": "stream",
     "text": [
      "\n",
      "      Epoch    GPU_mem       loss  Instances       Size\n"
     ]
    },
    {
     "name": "stderr",
     "output_type": "stream",
     "text": [
      "     55/100      1.58G     0.0263         15        640: 100%|██████████| 56/56 [00:05<00:00, 10.10it/s]\n",
      "               classes   top1_acc   top5_acc: 100%|██████████| 8/8 [00:00<00:00, 14.11it/s]"
     ]
    },
    {
     "name": "stdout",
     "output_type": "stream",
     "text": [
      "                   all      0.987          1\n"
     ]
    },
    {
     "name": "stderr",
     "output_type": "stream",
     "text": [
      "\n"
     ]
    },
    {
     "name": "stdout",
     "output_type": "stream",
     "text": [
      "\n",
      "      Epoch    GPU_mem       loss  Instances       Size\n"
     ]
    },
    {
     "name": "stderr",
     "output_type": "stream",
     "text": [
      "     56/100      1.58G    0.03145         15        640: 100%|██████████| 56/56 [00:05<00:00, 10.19it/s]\n",
      "               classes   top1_acc   top5_acc: 100%|██████████| 8/8 [00:00<00:00, 12.59it/s]"
     ]
    },
    {
     "name": "stdout",
     "output_type": "stream",
     "text": [
      "                   all      0.996          1\n"
     ]
    },
    {
     "name": "stderr",
     "output_type": "stream",
     "text": [
      "\n"
     ]
    },
    {
     "name": "stdout",
     "output_type": "stream",
     "text": [
      "\n",
      "      Epoch    GPU_mem       loss  Instances       Size\n"
     ]
    },
    {
     "name": "stderr",
     "output_type": "stream",
     "text": [
      "     57/100      1.58G    0.02236         15        640: 100%|██████████| 56/56 [00:05<00:00, 10.36it/s]\n",
      "               classes   top1_acc   top5_acc: 100%|██████████| 8/8 [00:00<00:00, 14.19it/s]"
     ]
    },
    {
     "name": "stdout",
     "output_type": "stream",
     "text": [
      "                   all      0.987          1\n"
     ]
    },
    {
     "name": "stderr",
     "output_type": "stream",
     "text": [
      "\n"
     ]
    },
    {
     "name": "stdout",
     "output_type": "stream",
     "text": [
      "\n",
      "      Epoch    GPU_mem       loss  Instances       Size\n"
     ]
    },
    {
     "name": "stderr",
     "output_type": "stream",
     "text": [
      "     58/100      1.58G    0.02427         15        640: 100%|██████████| 56/56 [00:05<00:00,  9.46it/s]\n",
      "               classes   top1_acc   top5_acc: 100%|██████████| 8/8 [00:00<00:00, 13.77it/s]"
     ]
    },
    {
     "name": "stdout",
     "output_type": "stream",
     "text": [
      "                   all      0.996          1\n"
     ]
    },
    {
     "name": "stderr",
     "output_type": "stream",
     "text": [
      "\n"
     ]
    },
    {
     "name": "stdout",
     "output_type": "stream",
     "text": [
      "\n",
      "      Epoch    GPU_mem       loss  Instances       Size\n"
     ]
    },
    {
     "name": "stderr",
     "output_type": "stream",
     "text": [
      "     59/100      1.58G    0.04173         15        640: 100%|██████████| 56/56 [00:05<00:00, 10.21it/s]\n",
      "               classes   top1_acc   top5_acc: 100%|██████████| 8/8 [00:00<00:00, 12.95it/s]"
     ]
    },
    {
     "name": "stdout",
     "output_type": "stream",
     "text": [
      "                   all      0.996          1\n"
     ]
    },
    {
     "name": "stderr",
     "output_type": "stream",
     "text": [
      "\n"
     ]
    },
    {
     "name": "stdout",
     "output_type": "stream",
     "text": [
      "\n",
      "      Epoch    GPU_mem       loss  Instances       Size\n"
     ]
    },
    {
     "name": "stderr",
     "output_type": "stream",
     "text": [
      "     60/100      1.58G    0.02451         15        640: 100%|██████████| 56/56 [00:05<00:00, 10.15it/s]\n",
      "               classes   top1_acc   top5_acc: 100%|██████████| 8/8 [00:00<00:00, 12.96it/s]"
     ]
    },
    {
     "name": "stdout",
     "output_type": "stream",
     "text": [
      "                   all      0.978          1\n"
     ]
    },
    {
     "name": "stderr",
     "output_type": "stream",
     "text": [
      "\n"
     ]
    },
    {
     "name": "stdout",
     "output_type": "stream",
     "text": [
      "\n",
      "      Epoch    GPU_mem       loss  Instances       Size\n"
     ]
    },
    {
     "name": "stderr",
     "output_type": "stream",
     "text": [
      "     61/100      1.58G    0.03484         15        640: 100%|██████████| 56/56 [00:05<00:00,  9.73it/s]\n",
      "               classes   top1_acc   top5_acc: 100%|██████████| 8/8 [00:00<00:00, 13.29it/s]"
     ]
    },
    {
     "name": "stdout",
     "output_type": "stream",
     "text": [
      "                   all      0.996          1\n"
     ]
    },
    {
     "name": "stderr",
     "output_type": "stream",
     "text": [
      "\n"
     ]
    },
    {
     "name": "stdout",
     "output_type": "stream",
     "text": [
      "\n",
      "      Epoch    GPU_mem       loss  Instances       Size\n"
     ]
    },
    {
     "name": "stderr",
     "output_type": "stream",
     "text": [
      "     62/100      1.58G      0.017         15        640: 100%|██████████| 56/56 [00:06<00:00,  8.75it/s]\n",
      "               classes   top1_acc   top5_acc: 100%|██████████| 8/8 [00:00<00:00, 13.31it/s]"
     ]
    },
    {
     "name": "stdout",
     "output_type": "stream",
     "text": [
      "                   all      0.987          1\n"
     ]
    },
    {
     "name": "stderr",
     "output_type": "stream",
     "text": [
      "\n"
     ]
    },
    {
     "name": "stdout",
     "output_type": "stream",
     "text": [
      "\n",
      "      Epoch    GPU_mem       loss  Instances       Size\n"
     ]
    },
    {
     "name": "stderr",
     "output_type": "stream",
     "text": [
      "     63/100      1.58G    0.01786         15        640: 100%|██████████| 56/56 [00:05<00:00,  9.56it/s]\n",
      "               classes   top1_acc   top5_acc: 100%|██████████| 8/8 [00:00<00:00, 12.98it/s]"
     ]
    },
    {
     "name": "stdout",
     "output_type": "stream",
     "text": [
      "                   all      0.973          1\n"
     ]
    },
    {
     "name": "stderr",
     "output_type": "stream",
     "text": [
      "\n"
     ]
    },
    {
     "name": "stdout",
     "output_type": "stream",
     "text": [
      "\n",
      "      Epoch    GPU_mem       loss  Instances       Size\n"
     ]
    },
    {
     "name": "stderr",
     "output_type": "stream",
     "text": [
      "     64/100      1.58G    0.03527         15        640: 100%|██████████| 56/56 [00:07<00:00,  7.93it/s]\n",
      "               classes   top1_acc   top5_acc: 100%|██████████| 8/8 [00:00<00:00, 12.66it/s]"
     ]
    },
    {
     "name": "stdout",
     "output_type": "stream",
     "text": [
      "                   all      0.991          1\n"
     ]
    },
    {
     "name": "stderr",
     "output_type": "stream",
     "text": [
      "\n"
     ]
    },
    {
     "name": "stdout",
     "output_type": "stream",
     "text": [
      "\n",
      "      Epoch    GPU_mem       loss  Instances       Size\n"
     ]
    },
    {
     "name": "stderr",
     "output_type": "stream",
     "text": [
      "     65/100      1.58G     0.0339         15        640: 100%|██████████| 56/56 [00:05<00:00, 10.64it/s]\n",
      "               classes   top1_acc   top5_acc: 100%|██████████| 8/8 [00:00<00:00, 14.10it/s]"
     ]
    },
    {
     "name": "stdout",
     "output_type": "stream",
     "text": [
      "                   all      0.991          1\n"
     ]
    },
    {
     "name": "stderr",
     "output_type": "stream",
     "text": [
      "\n"
     ]
    },
    {
     "name": "stdout",
     "output_type": "stream",
     "text": [
      "\n",
      "      Epoch    GPU_mem       loss  Instances       Size\n"
     ]
    },
    {
     "name": "stderr",
     "output_type": "stream",
     "text": [
      "     66/100      1.58G    0.02095         15        640: 100%|██████████| 56/56 [00:05<00:00, 10.53it/s]\n",
      "               classes   top1_acc   top5_acc: 100%|██████████| 8/8 [00:00<00:00, 14.00it/s]"
     ]
    },
    {
     "name": "stdout",
     "output_type": "stream",
     "text": [
      "                   all      0.987          1\n"
     ]
    },
    {
     "name": "stderr",
     "output_type": "stream",
     "text": [
      "\n"
     ]
    },
    {
     "name": "stdout",
     "output_type": "stream",
     "text": [
      "\n",
      "      Epoch    GPU_mem       loss  Instances       Size\n"
     ]
    },
    {
     "name": "stderr",
     "output_type": "stream",
     "text": [
      "     67/100      1.58G    0.02754         15        640: 100%|██████████| 56/56 [00:05<00:00,  9.88it/s]\n",
      "               classes   top1_acc   top5_acc: 100%|██████████| 8/8 [00:00<00:00, 12.73it/s]"
     ]
    },
    {
     "name": "stdout",
     "output_type": "stream",
     "text": [
      "                   all      0.991          1\n"
     ]
    },
    {
     "name": "stderr",
     "output_type": "stream",
     "text": [
      "\n"
     ]
    },
    {
     "name": "stdout",
     "output_type": "stream",
     "text": [
      "\n",
      "      Epoch    GPU_mem       loss  Instances       Size\n"
     ]
    },
    {
     "name": "stderr",
     "output_type": "stream",
     "text": [
      "     68/100      1.58G    0.01757         15        640: 100%|██████████| 56/56 [00:05<00:00, 10.01it/s]\n",
      "               classes   top1_acc   top5_acc: 100%|██████████| 8/8 [00:00<00:00, 12.92it/s]"
     ]
    },
    {
     "name": "stdout",
     "output_type": "stream",
     "text": [
      "                   all      0.982          1\n"
     ]
    },
    {
     "name": "stderr",
     "output_type": "stream",
     "text": [
      "\n"
     ]
    },
    {
     "name": "stdout",
     "output_type": "stream",
     "text": [
      "\n",
      "      Epoch    GPU_mem       loss  Instances       Size\n"
     ]
    },
    {
     "name": "stderr",
     "output_type": "stream",
     "text": [
      "     69/100      1.58G    0.02786         15        640: 100%|██████████| 56/56 [00:06<00:00,  8.71it/s]\n",
      "               classes   top1_acc   top5_acc: 100%|██████████| 8/8 [00:00<00:00, 14.02it/s]"
     ]
    },
    {
     "name": "stdout",
     "output_type": "stream",
     "text": [
      "                   all      0.996          1\n"
     ]
    },
    {
     "name": "stderr",
     "output_type": "stream",
     "text": [
      "\n"
     ]
    },
    {
     "name": "stdout",
     "output_type": "stream",
     "text": [
      "\n",
      "      Epoch    GPU_mem       loss  Instances       Size\n"
     ]
    },
    {
     "name": "stderr",
     "output_type": "stream",
     "text": [
      "     70/100      1.58G    0.02863         15        640: 100%|██████████| 56/56 [00:05<00:00, 10.04it/s]\n",
      "               classes   top1_acc   top5_acc: 100%|██████████| 8/8 [00:00<00:00, 12.26it/s]"
     ]
    },
    {
     "name": "stdout",
     "output_type": "stream",
     "text": [
      "                   all      0.996          1\n"
     ]
    },
    {
     "name": "stderr",
     "output_type": "stream",
     "text": [
      "\n"
     ]
    },
    {
     "name": "stdout",
     "output_type": "stream",
     "text": [
      "\n",
      "      Epoch    GPU_mem       loss  Instances       Size\n"
     ]
    },
    {
     "name": "stderr",
     "output_type": "stream",
     "text": [
      "     71/100      1.58G    0.02401         15        640: 100%|██████████| 56/56 [00:05<00:00, 10.14it/s]\n",
      "               classes   top1_acc   top5_acc: 100%|██████████| 8/8 [00:00<00:00, 12.87it/s]"
     ]
    },
    {
     "name": "stdout",
     "output_type": "stream",
     "text": [
      "                   all      0.991          1\n"
     ]
    },
    {
     "name": "stderr",
     "output_type": "stream",
     "text": [
      "\n"
     ]
    },
    {
     "name": "stdout",
     "output_type": "stream",
     "text": [
      "\n",
      "      Epoch    GPU_mem       loss  Instances       Size\n"
     ]
    },
    {
     "name": "stderr",
     "output_type": "stream",
     "text": [
      "     72/100      1.58G    0.01732         15        640: 100%|██████████| 56/56 [00:07<00:00,  7.58it/s]\n",
      "               classes   top1_acc   top5_acc: 100%|██████████| 8/8 [00:00<00:00, 13.09it/s]"
     ]
    },
    {
     "name": "stdout",
     "output_type": "stream",
     "text": [
      "                   all      0.991          1\n"
     ]
    },
    {
     "name": "stderr",
     "output_type": "stream",
     "text": [
      "\n"
     ]
    },
    {
     "name": "stdout",
     "output_type": "stream",
     "text": [
      "\n",
      "      Epoch    GPU_mem       loss  Instances       Size\n"
     ]
    },
    {
     "name": "stderr",
     "output_type": "stream",
     "text": [
      "     73/100      1.58G    0.01455         15        640: 100%|██████████| 56/56 [00:06<00:00,  9.19it/s]\n",
      "               classes   top1_acc   top5_acc: 100%|██████████| 8/8 [00:00<00:00, 13.20it/s]"
     ]
    },
    {
     "name": "stdout",
     "output_type": "stream",
     "text": [
      "                   all      0.991          1\n"
     ]
    },
    {
     "name": "stderr",
     "output_type": "stream",
     "text": [
      "\n"
     ]
    },
    {
     "name": "stdout",
     "output_type": "stream",
     "text": [
      "\n",
      "      Epoch    GPU_mem       loss  Instances       Size\n"
     ]
    },
    {
     "name": "stderr",
     "output_type": "stream",
     "text": [
      "     74/100      1.58G    0.01469         15        640: 100%|██████████| 56/56 [00:05<00:00, 10.09it/s]\n",
      "               classes   top1_acc   top5_acc: 100%|██████████| 8/8 [00:00<00:00, 14.07it/s]"
     ]
    },
    {
     "name": "stdout",
     "output_type": "stream",
     "text": [
      "                   all      0.991          1\n"
     ]
    },
    {
     "name": "stderr",
     "output_type": "stream",
     "text": [
      "\n"
     ]
    },
    {
     "name": "stdout",
     "output_type": "stream",
     "text": [
      "\n",
      "      Epoch    GPU_mem       loss  Instances       Size\n"
     ]
    },
    {
     "name": "stderr",
     "output_type": "stream",
     "text": [
      "     75/100      1.58G   0.008096         15        640: 100%|██████████| 56/56 [00:05<00:00,  9.96it/s]\n",
      "               classes   top1_acc   top5_acc: 100%|██████████| 8/8 [00:00<00:00, 14.31it/s]"
     ]
    },
    {
     "name": "stdout",
     "output_type": "stream",
     "text": [
      "                   all      0.991          1\n"
     ]
    },
    {
     "name": "stderr",
     "output_type": "stream",
     "text": [
      "\n"
     ]
    },
    {
     "name": "stdout",
     "output_type": "stream",
     "text": [
      "\n",
      "      Epoch    GPU_mem       loss  Instances       Size\n"
     ]
    },
    {
     "name": "stderr",
     "output_type": "stream",
     "text": [
      "     76/100      1.58G    0.02265         15        640: 100%|██████████| 56/56 [00:05<00:00, 10.09it/s]\n",
      "               classes   top1_acc   top5_acc: 100%|██████████| 8/8 [00:00<00:00, 12.51it/s]"
     ]
    },
    {
     "name": "stdout",
     "output_type": "stream",
     "text": [
      "                   all      0.991          1\n"
     ]
    },
    {
     "name": "stderr",
     "output_type": "stream",
     "text": [
      "\n"
     ]
    },
    {
     "name": "stdout",
     "output_type": "stream",
     "text": [
      "\n",
      "      Epoch    GPU_mem       loss  Instances       Size\n"
     ]
    },
    {
     "name": "stderr",
     "output_type": "stream",
     "text": [
      "     77/100      1.58G    0.02124         15        640: 100%|██████████| 56/56 [00:07<00:00,  7.32it/s]\n",
      "               classes   top1_acc   top5_acc: 100%|██████████| 8/8 [00:00<00:00, 15.36it/s]"
     ]
    },
    {
     "name": "stdout",
     "output_type": "stream",
     "text": [
      "                   all      0.987          1\n"
     ]
    },
    {
     "name": "stderr",
     "output_type": "stream",
     "text": [
      "\n"
     ]
    },
    {
     "name": "stdout",
     "output_type": "stream",
     "text": [
      "\n",
      "      Epoch    GPU_mem       loss  Instances       Size\n"
     ]
    },
    {
     "name": "stderr",
     "output_type": "stream",
     "text": [
      "     78/100      1.58G    0.02353         15        640: 100%|██████████| 56/56 [00:05<00:00,  9.88it/s]\n",
      "               classes   top1_acc   top5_acc: 100%|██████████| 8/8 [00:00<00:00, 13.08it/s]"
     ]
    },
    {
     "name": "stdout",
     "output_type": "stream",
     "text": [
      "                   all      0.987          1\n"
     ]
    },
    {
     "name": "stderr",
     "output_type": "stream",
     "text": [
      "\n"
     ]
    },
    {
     "name": "stdout",
     "output_type": "stream",
     "text": [
      "\n",
      "      Epoch    GPU_mem       loss  Instances       Size\n"
     ]
    },
    {
     "name": "stderr",
     "output_type": "stream",
     "text": [
      "     79/100      1.58G    0.01579         15        640: 100%|██████████| 56/56 [00:06<00:00,  8.42it/s]\n",
      "               classes   top1_acc   top5_acc: 100%|██████████| 8/8 [00:00<00:00, 12.13it/s]"
     ]
    },
    {
     "name": "stdout",
     "output_type": "stream",
     "text": [
      "                   all      0.991          1\n"
     ]
    },
    {
     "name": "stderr",
     "output_type": "stream",
     "text": [
      "\n"
     ]
    },
    {
     "name": "stdout",
     "output_type": "stream",
     "text": [
      "\n",
      "      Epoch    GPU_mem       loss  Instances       Size\n"
     ]
    },
    {
     "name": "stderr",
     "output_type": "stream",
     "text": [
      "     80/100      1.58G    0.01605         15        640: 100%|██████████| 56/56 [00:06<00:00,  8.96it/s]\n",
      "               classes   top1_acc   top5_acc: 100%|██████████| 8/8 [00:00<00:00, 13.04it/s]"
     ]
    },
    {
     "name": "stdout",
     "output_type": "stream",
     "text": [
      "                   all      0.978          1\n"
     ]
    },
    {
     "name": "stderr",
     "output_type": "stream",
     "text": [
      "\n"
     ]
    },
    {
     "name": "stdout",
     "output_type": "stream",
     "text": [
      "\n",
      "      Epoch    GPU_mem       loss  Instances       Size\n"
     ]
    },
    {
     "name": "stderr",
     "output_type": "stream",
     "text": [
      "     81/100      1.58G    0.01096         15        640: 100%|██████████| 56/56 [00:05<00:00,  9.81it/s]\n",
      "               classes   top1_acc   top5_acc: 100%|██████████| 8/8 [00:00<00:00, 13.46it/s]"
     ]
    },
    {
     "name": "stdout",
     "output_type": "stream",
     "text": [
      "                   all      0.978          1\n"
     ]
    },
    {
     "name": "stderr",
     "output_type": "stream",
     "text": [
      "\n"
     ]
    },
    {
     "name": "stdout",
     "output_type": "stream",
     "text": [
      "\n",
      "      Epoch    GPU_mem       loss  Instances       Size\n"
     ]
    },
    {
     "name": "stderr",
     "output_type": "stream",
     "text": [
      "     82/100      1.58G    0.01231         15        640: 100%|██████████| 56/56 [00:07<00:00,  7.52it/s]\n",
      "               classes   top1_acc   top5_acc: 100%|██████████| 8/8 [00:00<00:00, 14.20it/s]"
     ]
    },
    {
     "name": "stdout",
     "output_type": "stream",
     "text": [
      "                   all      0.987          1\n"
     ]
    },
    {
     "name": "stderr",
     "output_type": "stream",
     "text": [
      "\n"
     ]
    },
    {
     "name": "stdout",
     "output_type": "stream",
     "text": [
      "\n",
      "      Epoch    GPU_mem       loss  Instances       Size\n"
     ]
    },
    {
     "name": "stderr",
     "output_type": "stream",
     "text": [
      "     83/100      1.58G   0.009253         15        640: 100%|██████████| 56/56 [00:06<00:00,  8.48it/s]\n",
      "               classes   top1_acc   top5_acc: 100%|██████████| 8/8 [00:00<00:00, 15.04it/s]"
     ]
    },
    {
     "name": "stdout",
     "output_type": "stream",
     "text": [
      "                   all      0.987          1\n"
     ]
    },
    {
     "name": "stderr",
     "output_type": "stream",
     "text": [
      "\n"
     ]
    },
    {
     "name": "stdout",
     "output_type": "stream",
     "text": [
      "\n",
      "      Epoch    GPU_mem       loss  Instances       Size\n"
     ]
    },
    {
     "name": "stderr",
     "output_type": "stream",
     "text": [
      "     84/100      1.58G    0.01143         15        640: 100%|██████████| 56/56 [00:05<00:00, 10.64it/s]\n",
      "               classes   top1_acc   top5_acc: 100%|██████████| 8/8 [00:00<00:00, 13.26it/s]"
     ]
    },
    {
     "name": "stdout",
     "output_type": "stream",
     "text": [
      "                   all      0.978          1\n"
     ]
    },
    {
     "name": "stderr",
     "output_type": "stream",
     "text": [
      "\n"
     ]
    },
    {
     "name": "stdout",
     "output_type": "stream",
     "text": [
      "\n",
      "      Epoch    GPU_mem       loss  Instances       Size\n"
     ]
    },
    {
     "name": "stderr",
     "output_type": "stream",
     "text": [
      "     85/100      1.58G     0.0119         15        640: 100%|██████████| 56/56 [00:05<00:00,  9.94it/s]\n",
      "               classes   top1_acc   top5_acc: 100%|██████████| 8/8 [00:00<00:00, 14.81it/s]"
     ]
    },
    {
     "name": "stdout",
     "output_type": "stream",
     "text": [
      "                   all      0.978          1\n"
     ]
    },
    {
     "name": "stderr",
     "output_type": "stream",
     "text": [
      "\n"
     ]
    },
    {
     "name": "stdout",
     "output_type": "stream",
     "text": [
      "\n",
      "      Epoch    GPU_mem       loss  Instances       Size\n"
     ]
    },
    {
     "name": "stderr",
     "output_type": "stream",
     "text": [
      "     86/100      1.58G    0.01757         15        640: 100%|██████████| 56/56 [00:06<00:00,  9.02it/s]\n",
      "               classes   top1_acc   top5_acc: 100%|██████████| 8/8 [00:00<00:00, 11.44it/s]"
     ]
    },
    {
     "name": "stdout",
     "output_type": "stream",
     "text": [
      "                   all      0.987          1\n"
     ]
    },
    {
     "name": "stderr",
     "output_type": "stream",
     "text": [
      "\n"
     ]
    },
    {
     "name": "stdout",
     "output_type": "stream",
     "text": [
      "\n",
      "      Epoch    GPU_mem       loss  Instances       Size\n"
     ]
    },
    {
     "name": "stderr",
     "output_type": "stream",
     "text": [
      "     87/100      1.58G    0.01434         15        640: 100%|██████████| 56/56 [00:05<00:00, 10.55it/s]\n",
      "               classes   top1_acc   top5_acc: 100%|██████████| 8/8 [00:00<00:00, 14.80it/s]"
     ]
    },
    {
     "name": "stdout",
     "output_type": "stream",
     "text": [
      "                   all      0.978          1\n"
     ]
    },
    {
     "name": "stderr",
     "output_type": "stream",
     "text": [
      "\n"
     ]
    },
    {
     "name": "stdout",
     "output_type": "stream",
     "text": [
      "\n",
      "      Epoch    GPU_mem       loss  Instances       Size\n"
     ]
    },
    {
     "name": "stderr",
     "output_type": "stream",
     "text": [
      "     88/100      1.58G    0.01011         15        640: 100%|██████████| 56/56 [00:06<00:00,  8.30it/s]\n",
      "               classes   top1_acc   top5_acc: 100%|██████████| 8/8 [00:00<00:00, 14.86it/s]"
     ]
    },
    {
     "name": "stdout",
     "output_type": "stream",
     "text": [
      "                   all      0.982          1\n"
     ]
    },
    {
     "name": "stderr",
     "output_type": "stream",
     "text": [
      "\n"
     ]
    },
    {
     "name": "stdout",
     "output_type": "stream",
     "text": [
      "\n",
      "      Epoch    GPU_mem       loss  Instances       Size\n"
     ]
    },
    {
     "name": "stderr",
     "output_type": "stream",
     "text": [
      "     89/100      1.58G    0.01458         15        640: 100%|██████████| 56/56 [00:07<00:00,  7.95it/s]\n",
      "               classes   top1_acc   top5_acc: 100%|██████████| 8/8 [00:00<00:00, 13.30it/s]"
     ]
    },
    {
     "name": "stdout",
     "output_type": "stream",
     "text": [
      "                   all      0.982          1\n"
     ]
    },
    {
     "name": "stderr",
     "output_type": "stream",
     "text": [
      "\n"
     ]
    },
    {
     "name": "stdout",
     "output_type": "stream",
     "text": [
      "\n",
      "      Epoch    GPU_mem       loss  Instances       Size\n"
     ]
    },
    {
     "name": "stderr",
     "output_type": "stream",
     "text": [
      "     90/100      1.58G    0.01344         15        640: 100%|██████████| 56/56 [00:05<00:00,  9.78it/s]\n",
      "               classes   top1_acc   top5_acc: 100%|██████████| 8/8 [00:00<00:00, 12.04it/s]"
     ]
    },
    {
     "name": "stdout",
     "output_type": "stream",
     "text": [
      "                   all      0.987          1\n"
     ]
    },
    {
     "name": "stderr",
     "output_type": "stream",
     "text": [
      "\n"
     ]
    },
    {
     "name": "stdout",
     "output_type": "stream",
     "text": [
      "\n",
      "      Epoch    GPU_mem       loss  Instances       Size\n"
     ]
    },
    {
     "name": "stderr",
     "output_type": "stream",
     "text": [
      "     91/100      1.58G    0.01167         15        640: 100%|██████████| 56/56 [00:06<00:00,  8.30it/s]\n",
      "               classes   top1_acc   top5_acc: 100%|██████████| 8/8 [00:00<00:00, 13.52it/s]"
     ]
    },
    {
     "name": "stdout",
     "output_type": "stream",
     "text": [
      "                   all      0.991          1\n"
     ]
    },
    {
     "name": "stderr",
     "output_type": "stream",
     "text": [
      "\n"
     ]
    },
    {
     "name": "stdout",
     "output_type": "stream",
     "text": [
      "\n",
      "      Epoch    GPU_mem       loss  Instances       Size\n"
     ]
    },
    {
     "name": "stderr",
     "output_type": "stream",
     "text": [
      "     92/100      1.58G    0.01225         15        640: 100%|██████████| 56/56 [00:05<00:00,  9.75it/s]\n",
      "               classes   top1_acc   top5_acc: 100%|██████████| 8/8 [00:00<00:00, 12.78it/s]"
     ]
    },
    {
     "name": "stdout",
     "output_type": "stream",
     "text": [
      "                   all      0.982          1\n"
     ]
    },
    {
     "name": "stderr",
     "output_type": "stream",
     "text": [
      "\n"
     ]
    },
    {
     "name": "stdout",
     "output_type": "stream",
     "text": [
      "\n",
      "      Epoch    GPU_mem       loss  Instances       Size\n"
     ]
    },
    {
     "name": "stderr",
     "output_type": "stream",
     "text": [
      "     93/100      1.58G    0.01091         15        640: 100%|██████████| 56/56 [00:05<00:00,  9.95it/s]\n",
      "               classes   top1_acc   top5_acc: 100%|██████████| 8/8 [00:00<00:00, 13.86it/s]"
     ]
    },
    {
     "name": "stdout",
     "output_type": "stream",
     "text": [
      "                   all      0.978          1\n"
     ]
    },
    {
     "name": "stderr",
     "output_type": "stream",
     "text": [
      "\n"
     ]
    },
    {
     "name": "stdout",
     "output_type": "stream",
     "text": [
      "\n",
      "      Epoch    GPU_mem       loss  Instances       Size\n"
     ]
    },
    {
     "name": "stderr",
     "output_type": "stream",
     "text": [
      "     94/100      1.58G    0.00937         15        640: 100%|██████████| 56/56 [00:05<00:00, 10.36it/s]\n",
      "               classes   top1_acc   top5_acc: 100%|██████████| 8/8 [00:00<00:00, 12.54it/s]"
     ]
    },
    {
     "name": "stdout",
     "output_type": "stream",
     "text": [
      "                   all      0.987          1\n"
     ]
    },
    {
     "name": "stderr",
     "output_type": "stream",
     "text": [
      "\n"
     ]
    },
    {
     "name": "stdout",
     "output_type": "stream",
     "text": [
      "\n",
      "      Epoch    GPU_mem       loss  Instances       Size\n"
     ]
    },
    {
     "name": "stderr",
     "output_type": "stream",
     "text": [
      "     95/100      1.58G   0.007605         15        640: 100%|██████████| 56/56 [00:05<00:00, 10.30it/s]\n",
      "               classes   top1_acc   top5_acc: 100%|██████████| 8/8 [00:00<00:00, 12.27it/s]"
     ]
    },
    {
     "name": "stdout",
     "output_type": "stream",
     "text": [
      "                   all      0.987          1\n"
     ]
    },
    {
     "name": "stderr",
     "output_type": "stream",
     "text": [
      "\n"
     ]
    },
    {
     "name": "stdout",
     "output_type": "stream",
     "text": [
      "\n",
      "      Epoch    GPU_mem       loss  Instances       Size\n"
     ]
    },
    {
     "name": "stderr",
     "output_type": "stream",
     "text": [
      "     96/100      1.58G    0.01352         15        640: 100%|██████████| 56/56 [00:05<00:00,  9.94it/s]\n",
      "               classes   top1_acc   top5_acc: 100%|██████████| 8/8 [00:00<00:00, 11.64it/s]"
     ]
    },
    {
     "name": "stdout",
     "output_type": "stream",
     "text": [
      "                   all      0.987          1\n"
     ]
    },
    {
     "name": "stderr",
     "output_type": "stream",
     "text": [
      "\n"
     ]
    },
    {
     "name": "stdout",
     "output_type": "stream",
     "text": [
      "\n",
      "      Epoch    GPU_mem       loss  Instances       Size\n"
     ]
    },
    {
     "name": "stderr",
     "output_type": "stream",
     "text": [
      "     97/100      1.58G    0.01084         15        640: 100%|██████████| 56/56 [00:05<00:00,  9.82it/s]\n",
      "               classes   top1_acc   top5_acc: 100%|██████████| 8/8 [00:00<00:00, 11.63it/s]"
     ]
    },
    {
     "name": "stdout",
     "output_type": "stream",
     "text": [
      "                   all      0.991          1\n"
     ]
    },
    {
     "name": "stderr",
     "output_type": "stream",
     "text": [
      "\n"
     ]
    },
    {
     "name": "stdout",
     "output_type": "stream",
     "text": [
      "\n",
      "      Epoch    GPU_mem       loss  Instances       Size\n"
     ]
    },
    {
     "name": "stderr",
     "output_type": "stream",
     "text": [
      "     98/100      1.58G    0.01155         15        640: 100%|██████████| 56/56 [00:08<00:00,  6.98it/s]\n",
      "               classes   top1_acc   top5_acc: 100%|██████████| 8/8 [00:00<00:00, 12.89it/s]"
     ]
    },
    {
     "name": "stdout",
     "output_type": "stream",
     "text": [
      "                   all      0.991          1\n"
     ]
    },
    {
     "name": "stderr",
     "output_type": "stream",
     "text": [
      "\n"
     ]
    },
    {
     "name": "stdout",
     "output_type": "stream",
     "text": [
      "\n",
      "      Epoch    GPU_mem       loss  Instances       Size\n"
     ]
    },
    {
     "name": "stderr",
     "output_type": "stream",
     "text": [
      "     99/100      1.58G   0.007202         15        640: 100%|██████████| 56/56 [00:07<00:00,  7.91it/s]\n",
      "               classes   top1_acc   top5_acc: 100%|██████████| 8/8 [00:00<00:00, 12.98it/s]"
     ]
    },
    {
     "name": "stdout",
     "output_type": "stream",
     "text": [
      "                   all      0.991          1\n"
     ]
    },
    {
     "name": "stderr",
     "output_type": "stream",
     "text": [
      "\n"
     ]
    },
    {
     "name": "stdout",
     "output_type": "stream",
     "text": [
      "\n",
      "      Epoch    GPU_mem       loss  Instances       Size\n"
     ]
    },
    {
     "name": "stderr",
     "output_type": "stream",
     "text": [
      "    100/100      1.58G   0.008109         15        640: 100%|██████████| 56/56 [00:07<00:00,  7.56it/s]\n",
      "               classes   top1_acc   top5_acc: 100%|██████████| 8/8 [00:00<00:00, 12.52it/s]"
     ]
    },
    {
     "name": "stdout",
     "output_type": "stream",
     "text": [
      "                   all      0.991          1\n"
     ]
    },
    {
     "name": "stderr",
     "output_type": "stream",
     "text": [
      "\n"
     ]
    },
    {
     "name": "stdout",
     "output_type": "stream",
     "text": [
      "\n",
      "100 epochs completed in 0.212 hours.\n",
      "Optimizer stripped from runs/classify/train/weights/last.pt, 3.0MB\n",
      "Optimizer stripped from runs/classify/train/weights/best.pt, 3.0MB\n",
      "\n",
      "Validating runs/classify/train/weights/best.pt...\n",
      "Ultralytics 8.3.74 🚀 Python-3.10.12 torch-2.6.0+cu124 CUDA:0 (NVIDIA GeForce RTX 3050, 7971MiB)\n",
      "YOLOv8n-cls summary (fused): 73 layers, 1,440,004 parameters, 0 gradients, 3.3 GFLOPs\n",
      "\u001b[34m\u001b[1mtrain:\u001b[0m /media/guilherme/Novo volume/HacktoonBF/yolo_cl/dataset/train... found 896 images in 4 classes ✅ \n",
      "\u001b[34m\u001b[1mval:\u001b[0m /media/guilherme/Novo volume/HacktoonBF/yolo_cl/dataset/val... found 226 images in 4 classes ✅ \n",
      "\u001b[34m\u001b[1mtest:\u001b[0m None...\n"
     ]
    },
    {
     "name": "stderr",
     "output_type": "stream",
     "text": [
      "               classes   top1_acc   top5_acc: 100%|██████████| 8/8 [00:00<00:00,  8.40it/s]\n"
     ]
    },
    {
     "name": "stdout",
     "output_type": "stream",
     "text": [
      "                   all      0.996          1\n",
      "Speed: 1.2ms preprocess, 2.3ms inference, 0.0ms loss, 0.0ms postprocess per image\n",
      "Results saved to \u001b[1mruns/classify/train\u001b[0m\n"
     ]
    },
    {
     "data": {
      "text/plain": [
       "ultralytics.utils.metrics.ClassifyMetrics object with attributes:\n",
       "\n",
       "confusion_matrix: <ultralytics.utils.metrics.ConfusionMatrix object at 0x7fbd774a4bb0>\n",
       "curves: []\n",
       "curves_results: []\n",
       "fitness: 0.9977777898311615\n",
       "keys: ['metrics/accuracy_top1', 'metrics/accuracy_top5']\n",
       "results_dict: {'metrics/accuracy_top1': 0.995555579662323, 'metrics/accuracy_top5': 1.0, 'fitness': 0.9977777898311615}\n",
       "save_dir: PosixPath('runs/classify/train')\n",
       "speed: {'preprocess': 1.1563301086425781, 'inference': 2.2895484500461154, 'loss': 0.0072553422715928816, 'postprocess': 0.007441838582356771}\n",
       "task: 'classify'\n",
       "top1: 0.995555579662323\n",
       "top5: 1.0"
      ]
     },
     "execution_count": 5,
     "metadata": {},
     "output_type": "execute_result"
    }
   ],
   "source": [
    "model.train(data=\"/media/guilherme/Novo volume/HacktoonBF/yolo_cl/dataset\", epochs=100, imgsz=640)"
   ]
  },
  {
   "cell_type": "code",
   "execution_count": 2,
   "metadata": {},
   "outputs": [
    {
     "ename": "NameError",
     "evalue": "name 'model' is not defined",
     "output_type": "error",
     "traceback": [
      "\u001b[0;31m---------------------------------------------------------------------------\u001b[0m",
      "\u001b[0;31mNameError\u001b[0m                                 Traceback (most recent call last)",
      "Cell \u001b[0;32mIn[2], line 1\u001b[0m\n\u001b[0;32m----> 1\u001b[0m \u001b[43mmodel\u001b[49m\u001b[38;5;241m.\u001b[39msave(\u001b[38;5;124m\"\u001b[39m\u001b[38;5;124mmy_model_test.pt\u001b[39m\u001b[38;5;124m\"\u001b[39m)\n",
      "\u001b[0;31mNameError\u001b[0m: name 'model' is not defined"
     ]
    }
   ],
   "source": [
    "model.save(\"my_model_test.pt\")"
   ]
  },
  {
   "cell_type": "code",
   "execution_count": 7,
   "metadata": {},
   "outputs": [
    {
     "name": "stdout",
     "output_type": "stream",
     "text": [
      "\n",
      "image 1/1 /media/guilherme/Novo volume/HacktoonBF/yolo_cl/shine154.jpg: 640x640 shine 0.99, sunrise 0.01, cloudy 0.00, rain 0.00, 2.2ms\n",
      "Speed: 38.7ms preprocess, 2.2ms inference, 0.1ms postprocess per image at shape (1, 3, 640, 640)\n"
     ]
    }
   ],
   "source": [
    "result = model(\"shine154.jpg\")"
   ]
  },
  {
   "cell_type": "code",
   "execution_count": 11,
   "metadata": {},
   "outputs": [
    {
     "data": {
      "text/plain": [
       "{0: 'cloudy', 1: 'rain', 2: 'shine', 3: 'sunrise'}"
      ]
     },
     "execution_count": 11,
     "metadata": {},
     "output_type": "execute_result"
    }
   ],
   "source": [
    "names_dict = result[0].names\n",
    "names_dict"
   ]
  },
  {
   "cell_type": "code",
   "execution_count": 13,
   "metadata": {},
   "outputs": [
    {
     "data": {
      "text/plain": [
       "[0.00010225907317362726,\n",
       " 4.6703384271040704e-08,\n",
       " 0.9947786331176758,\n",
       " 0.005119118839502335]"
      ]
     },
     "execution_count": 13,
     "metadata": {},
     "output_type": "execute_result"
    }
   ],
   "source": [
    "probs = result[0].probs.data.tolist()\n",
    "probs"
   ]
  },
  {
   "cell_type": "code",
   "execution_count": 14,
   "metadata": {},
   "outputs": [
    {
     "name": "stdout",
     "output_type": "stream",
     "text": [
      "shine\n"
     ]
    }
   ],
   "source": [
    "import numpy as np\n",
    "\n",
    "print(names_dict[np.argmax(probs)])"
   ]
  }
 ],
 "metadata": {
  "kernelspec": {
   "display_name": "venv",
   "language": "python",
   "name": "python3"
  },
  "language_info": {
   "codemirror_mode": {
    "name": "ipython",
    "version": 3
   },
   "file_extension": ".py",
   "mimetype": "text/x-python",
   "name": "python",
   "nbconvert_exporter": "python",
   "pygments_lexer": "ipython3",
   "version": "3.10.12"
  }
 },
 "nbformat": 4,
 "nbformat_minor": 2
}
