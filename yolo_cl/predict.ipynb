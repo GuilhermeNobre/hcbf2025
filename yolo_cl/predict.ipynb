{
 "cells": [
  {
   "cell_type": "code",
   "execution_count": 3,
   "metadata": {},
   "outputs": [],
   "source": [
    "from ultralytics import YOLO"
   ]
  },
  {
   "cell_type": "code",
   "execution_count": 4,
   "metadata": {},
   "outputs": [],
   "source": [
    "model = YOLO('my_model_test.pt')"
   ]
  },
  {
   "cell_type": "code",
   "execution_count": 10,
   "metadata": {},
   "outputs": [
    {
     "name": "stdout",
     "output_type": "stream",
     "text": [
      "\n",
      "image 1/1 /media/guilherme/Novo volume/HacktoonBF/yolo_cl/mytest/sunrise_t.jpg: 640x640 sunrise 1.00, shine 0.00, cloudy 0.00, rain 0.00, 26.7ms\n",
      "Speed: 9.8ms preprocess, 26.7ms inference, 0.0ms postprocess per image at shape (1, 3, 640, 640)\n"
     ]
    },
    {
     "data": {
      "text/plain": [
       "[ultralytics.engine.results.Results object with attributes:\n",
       " \n",
       " boxes: None\n",
       " keypoints: None\n",
       " masks: None\n",
       " names: {0: 'cloudy', 1: 'rain', 2: 'shine', 3: 'sunrise'}\n",
       " obb: None\n",
       " orig_img: array([[[ 92,  18,  60],\n",
       "         [ 92,  18,  60],\n",
       "         [ 92,  18,  60],\n",
       "         ...,\n",
       "         [ 82,  31, 135],\n",
       "         [ 82,  31, 135],\n",
       "         [ 82,  31, 135]],\n",
       " \n",
       "        [[ 92,  18,  60],\n",
       "         [ 92,  18,  60],\n",
       "         [ 92,  18,  60],\n",
       "         ...,\n",
       "         [ 83,  32, 136],\n",
       "         [ 83,  32, 136],\n",
       "         [ 83,  32, 136]],\n",
       " \n",
       "        [[ 92,  18,  60],\n",
       "         [ 92,  18,  60],\n",
       "         [ 92,  18,  60],\n",
       "         ...,\n",
       "         [ 82,  33, 137],\n",
       "         [ 82,  33, 137],\n",
       "         [ 82,  33, 137]],\n",
       " \n",
       "        ...,\n",
       " \n",
       "        [[ 17,  44,  11],\n",
       "         [ 50,  79,  54],\n",
       "         [ 53,  84,  69],\n",
       "         ...,\n",
       "         [ 16,  31,  40],\n",
       "         [ 22,  44,  50],\n",
       "         [ 16,  43,  47]],\n",
       " \n",
       "        [[ 47, 100,  80],\n",
       "         [ 46,  38,  48],\n",
       "         [ 42,  31,  63],\n",
       "         ...,\n",
       "         [  6,  35,  40],\n",
       "         [  6,  25,  32],\n",
       "         [  0,  14,  20]],\n",
       " \n",
       "        [[ 45,  95,  77],\n",
       "         [ 49,  37,  49],\n",
       "         [ 49,  35,  69],\n",
       "         ...,\n",
       "         [  6,  35,  40],\n",
       "         [  6,  25,  32],\n",
       "         [  0,  14,  20]]], dtype=uint8)\n",
       " orig_shape: (354, 612)\n",
       " path: '/media/guilherme/Novo volume/HacktoonBF/yolo_cl/mytest/sunrise_t.jpg'\n",
       " probs: ultralytics.engine.results.Probs object\n",
       " save_dir: 'runs/classify/predict'\n",
       " speed: {'preprocess': 9.843587875366211, 'inference': 26.705026626586914, 'postprocess': 0.03600120544433594}]"
      ]
     },
     "execution_count": 10,
     "metadata": {},
     "output_type": "execute_result"
    }
   ],
   "source": [
    "result = model('mytest/sunrise_t.jpg')\n",
    "result"
   ]
  },
  {
   "cell_type": "code",
   "execution_count": 11,
   "metadata": {},
   "outputs": [
    {
     "data": {
      "text/plain": [
       "ultralytics.engine.results.Probs object with attributes:\n",
       "\n",
       "data: tensor([4.1759e-06, 4.3733e-08, 5.7523e-04, 9.9942e-01])\n",
       "orig_shape: None\n",
       "shape: torch.Size([4])\n",
       "top1: 3\n",
       "top1conf: tensor(0.9994)\n",
       "top5: [3, 2, 0, 1]\n",
       "top5conf: tensor([9.9942e-01, 5.7523e-04, 4.1759e-06, 4.3733e-08])"
      ]
     },
     "execution_count": 11,
     "metadata": {},
     "output_type": "execute_result"
    }
   ],
   "source": [
    "probs_ = result[0].probs\n",
    "probs_"
   ]
  },
  {
   "cell_type": "code",
   "execution_count": 12,
   "metadata": {},
   "outputs": [
    {
     "data": {
      "text/plain": [
       "{0: 'cloudy', 1: 'rain', 2: 'shine', 3: 'sunrise'}"
      ]
     },
     "execution_count": 12,
     "metadata": {},
     "output_type": "execute_result"
    }
   ],
   "source": [
    "names_dict = result[0].names\n",
    "names_dict"
   ]
  },
  {
   "cell_type": "code",
   "execution_count": 13,
   "metadata": {},
   "outputs": [
    {
     "data": {
      "text/plain": [
       "[4.175931735517224e-06,\n",
       " 4.3733137999879546e-08,\n",
       " 0.0005752347642555833,\n",
       " 0.9994205236434937]"
      ]
     },
     "execution_count": 13,
     "metadata": {},
     "output_type": "execute_result"
    }
   ],
   "source": [
    "probs = result[0].probs.data.tolist()\n",
    "probs"
   ]
  },
  {
   "cell_type": "code",
   "execution_count": 14,
   "metadata": {},
   "outputs": [
    {
     "name": "stdout",
     "output_type": "stream",
     "text": [
      "sunrise\n"
     ]
    }
   ],
   "source": [
    "import numpy as np\n",
    "\n",
    "print(names_dict[np.argmax(probs)])"
   ]
  }
 ],
 "metadata": {
  "kernelspec": {
   "display_name": "venv",
   "language": "python",
   "name": "python3"
  },
  "language_info": {
   "codemirror_mode": {
    "name": "ipython",
    "version": 3
   },
   "file_extension": ".py",
   "mimetype": "text/x-python",
   "name": "python",
   "nbconvert_exporter": "python",
   "pygments_lexer": "ipython3",
   "version": "3.10.12"
  }
 },
 "nbformat": 4,
 "nbformat_minor": 2
}
