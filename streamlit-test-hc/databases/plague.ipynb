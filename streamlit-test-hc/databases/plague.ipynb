{
 "cells": [
  {
   "cell_type": "code",
   "execution_count": 26,
   "metadata": {},
   "outputs": [],
   "source": [
    "import sqlite3\n",
    "\n",
    "database = sqlite3.connect('plague.db')\n",
    "cursor = database.cursor()\n",
    "cursor.close()"
   ]
  },
  {
   "cell_type": "code",
   "execution_count": 27,
   "metadata": {},
   "outputs": [],
   "source": [
    "with sqlite3.connect('plague.db') as database:\n",
    "    cursor = database.cursor()\n",
    "\n",
    "    create_table = '''\n",
    "    CREATE TABLE IF NOT EXISTS plague (\n",
    "    id INTEGER PRIMARY KEY AUTOINCREMENT,\n",
    "    name TEXT NOT NULL,\n",
    "    characteristics TEXT NOT NULL,\n",
    "    Location TEXT NOT NULL,\n",
    "    Diessing TEXT NOT NULL,\n",
    "    Symptoms TEXT NOT NULL,\n",
    "    Medications TEXT NOT NULL,\n",
    "    Tips TEXT NOT NULL,\n",
    "    Prevention TEXT NOT NULL,\n",
    "    Url TEXT NOT NULL\n",
    "    )\n",
    "    '''\n",
    "    cursor.execute(create_table)\n",
    "    database.commit()\n",
    "    \n",
    "cursor.close()"
   ]
  },
  {
   "cell_type": "code",
   "execution_count": 28,
   "metadata": {},
   "outputs": [],
   "source": [
    "def input_data_on_database(data):\n",
    "    with sqlite3.connect('plague.db') as database:\n",
    "        cursor = database.cursor()\n",
    "        insert_data = '''\n",
    "        INSERT INTO plague (name, characteristics, Location, Diessing, Symptoms, Medications, Tips, Prevention, Url)\n",
    "        VALUES (?, ?, ?, ?, ?, ?, ?, ?, ?)\n",
    "        '''\n",
    "        cursor.execute(insert_data, data)\n",
    "        database.commit()\n",
    "    cursor.close()"
   ]
  },
  {
   "cell_type": "code",
   "execution_count": 29,
   "metadata": {},
   "outputs": [],
   "source": [
    "import pandas as pd"
   ]
  },
  {
   "cell_type": "code",
   "execution_count": 30,
   "metadata": {},
   "outputs": [
    {
     "data": {
      "text/plain": [
       "<_io.TextIOWrapper name='TAB-BAC (1).csv' mode='r' encoding='UTF-8'>"
      ]
     },
     "execution_count": 30,
     "metadata": {},
     "output_type": "execute_result"
    }
   ],
   "source": [
    "open_csv = open('TAB-BAC (1).csv', 'r')\n",
    "\n",
    "open_csv"
   ]
  },
  {
   "cell_type": "code",
   "execution_count": 31,
   "metadata": {},
   "outputs": [],
   "source": [
    "simple_data = {0: 'Acinetobacter.baumanii',\n",
    " 1: 'Actinomyces.israeli',\n",
    " 2: 'Bacteroides.fragilis',\n",
    " 3: 'Bifidobacterium.spp',\n",
    " 4: 'Candida.albicans',\n",
    " 5: 'Clostridium.perfringens',\n",
    " 6: 'Enterococcus.faecalis',\n",
    " 7: 'Enterococcus.faecium',\n",
    " 8: 'Escherichia.coli',\n",
    " 9: 'Fusobacterium',\n",
    " 10: 'Lactobacillus.casei',\n",
    " 11: 'Lactobacillus.crispatus',\n",
    " 12: 'Lactobacillus.delbrueckii',\n",
    " 13: 'Lactobacillus.gasseri',\n",
    " 14: 'Lactobacillus.jehnsenii',\n",
    " 15: 'Lactobacillus.johnsonii',\n",
    " 16: 'Lactobacillus.paracasei',\n",
    " 17: 'Lactobacillus.plantarum',\n",
    " 18: 'Lactobacillus.reuteri',\n",
    " 19: 'Lactobacillus.rhamnosus',\n",
    " 20: 'Lactobacillus.salivarius',\n",
    " 21: 'Listeria.monocytogenes',\n",
    " 22: 'Micrococcus.spp',\n",
    " 23: 'Neisseria.gonorrhoeae',\n",
    " 24: 'Porfyromonas.gingivalis',\n",
    " 25: 'Propionibacterium.acnes',\n",
    " 26: 'Proteus',\n",
    " 27: 'Pseudomonas.aeruginosa',\n",
    " 28: 'Staphylococcus.aureus',\n",
    " 29: 'Staphylococcus.epidermidis',\n",
    " 30: 'Staphylococcus.saprophiticus',\n",
    " 31: 'Streptococcus.agalactiae',\n",
    " 32: 'Veionella'}"
   ]
  },
  {
   "cell_type": "code",
   "execution_count": 32,
   "metadata": {},
   "outputs": [
    {
     "data": {
      "text/plain": [
       "(33, 8)"
      ]
     },
     "execution_count": 32,
     "metadata": {},
     "output_type": "execute_result"
    }
   ],
   "source": [
    "df = pd.read_csv('TAB-BAC (1).csv')\n",
    "\n",
    "df.head()\n",
    "df.shape"
   ]
  },
  {
   "cell_type": "code",
   "execution_count": 33,
   "metadata": {},
   "outputs": [
    {
     "name": "stderr",
     "output_type": "stream",
     "text": [
      "/tmp/ipykernel_6662/1408429285.py:5: FutureWarning: Series.__getitem__ treating keys as positions is deprecated. In a future version, integer keys will always be treated as labels (consistent with DataFrame behavior). To access a value by position, use `ser.iloc[pos]`\n",
      "  tuple_data += (data[j],)\n"
     ]
    }
   ],
   "source": [
    "for i in range(df.shape[0]):\n",
    "    tuple_data = ()\n",
    "    data = df.iloc[i]\n",
    "    for j in range(8):\n",
    "        tuple_data += (data[j],)\n",
    "        # add url null \n",
    "    tuple_data += ('url',)\n",
    "    input_data_on_database(tuple_data)\n"
   ]
  },
  {
   "cell_type": "code",
   "execution_count": 34,
   "metadata": {},
   "outputs": [
    {
     "data": {
      "text/plain": [
       "Nome da Bactéria                                       Acinetobacter.baumanii\n",
       "Características                              Gram-negativa aeróbia resistente\n",
       "Localização                                                Hospitais ambiente\n",
       "Doenças Causadas                                     Pneumonia ITU bacteremia\n",
       "Sintomas Comuns             Febre tosse falta de ar (pneumonia)Dor ao urin...\n",
       "Medicamentos e Aplicação    Colistina (IV) Tigeciclina (IV) Meropenem/Imip...\n",
       "Dicas Adicionais            Testes de sensibilidade são cruciais devido à ...\n",
       "Prevenção                   Higiene das mãos precauções de contato uso rac...\n",
       "Name: 0, dtype: object"
      ]
     },
     "execution_count": 34,
     "metadata": {},
     "output_type": "execute_result"
    }
   ],
   "source": [
    "df.iloc[0]"
   ]
  },
  {
   "cell_type": "code",
   "execution_count": 35,
   "metadata": {},
   "outputs": [
    {
     "name": "stdout",
     "output_type": "stream",
     "text": [
      "Acinetobacter.baumanii\n",
      "Actinomyces.israeli\n",
      "Bacteroides.fragilis\n",
      "Bifidobacterium.spp\n",
      "Candida.albicans\n",
      "Clostridium.perfringens\n",
      "Enterococcus.faecalis\n",
      "Enterococcus.faecium\n",
      "Escherichia.coli\n",
      "Fusobacterium\n",
      "Lactobacillus.casei\n",
      "Lactobacillus.crispatus\n",
      "Lactobacillus.delbrueckii\n",
      "Lactobacillus.gasseri\n",
      "Lactobacillus.jehnsenii\n",
      "Lactobacillus.johnsonii\n",
      "Lactobacillus.paracasei\n",
      "Lactobacillus.plantarum\n",
      "Lactobacillus.reuteri\n",
      "Lactobacillus.rhamnosus\n",
      "Lactobacillus.salivarius\n",
      "Listeria.monocytogenes\n",
      "Micrococcus.spp\n",
      "Neisseria.gonorrhoeae\n",
      "Porfyromonas.gingivalis\n",
      "Propionibacterium.acnes\n",
      "Proteus\n",
      "Pseudomonas.aeruginosa\n",
      "Staphylococcus.aureus\n",
      "Staphylococcus.epidermidis\n",
      "Staphylococcus.saprophiticus\n",
      "Streptococcus.agalactiae\n",
      "Veillonella\n"
     ]
    },
    {
     "name": "stderr",
     "output_type": "stream",
     "text": [
      "/tmp/ipykernel_6662/3064763764.py:4: FutureWarning: Series.__getitem__ treating keys as positions is deprecated. In a future version, integer keys will always be treated as labels (consistent with DataFrame behavior). To access a value by position, use `ser.iloc[pos]`\n",
      "  print(df.iloc[i][0])\n"
     ]
    }
   ],
   "source": [
    "# Print all bact\n",
    "\n",
    "for i in range(df.shape[0]):\n",
    "    print(df.iloc[i][0])"
   ]
  },
  {
   "cell_type": "code",
   "execution_count": 36,
   "metadata": {},
   "outputs": [],
   "source": [
    "urls = [\n",
    "    'https://encrypted-tbn0.gstatic.com/images?q=tbn:ANd9GcT1Jk4cneqt9HuBBe1DUcHS-19PJWRV_0jYgQ&s',\n",
    "    'https://encrypted-tbn0.gstatic.com/images?q=tbn:ANd9GcT1Jk4cneqt9HuBBe1DUcHS-19PJWRV_0jYgQ&s',\n",
    "    'https://www.hartmann-science-center.com/-/media/country/hsc/pathogens/staebchenbakterien_540x540px.jpg?h=540&iar=0&mw=540&w=540&rev=048c88005d644dfc8e0bb605953c70b9&sc_lang=en&hash=EE304F8A8E2C4FC7EA40F3B4EAA1EF5A',\n",
    "    'https://images.fineartamerica.com/images-medium-large-5/bifidobacterium-sp-probiotic-dennis-kunkel-microscopyscience-photo-library.jpg',\n",
    "    'https://encrypted-tbn0.gstatic.com/images?q=tbn:ANd9GcQCARfv41JQIFmECyS7u6gDAV6PaJ7wjum75A&s',\n",
    "    'https://encrypted-tbn0.gstatic.com/images?q=tbn:ANd9GcQ2KRAGhGCN4PRZcbSKCKP9SAGOzLrd542kNw&s',\n",
    "    'https://microbenotes.com/wp-content/uploads/2022/09/Enterococcus-faecalis-Morphology-.jpg',\n",
    "    'https://encrypted-tbn0.gstatic.com/images?q=tbn:ANd9GcQgGJ4BtrfMipAxDBmlNuVJXbUrYzDN6vdHsw&s',\n",
    "    'https://laboratoriobiologico.net.br/wp-content/uploads/2021/10/e-coli-linda.jpeg',\n",
    "    'https://t4.ftcdn.net/jpg/04/76/38/11/360_F_476381157_qdyydiOjilnMhyzxwZxDPXmwTqX11BYS.jpg',\n",
    "    'https://encrypted-tbn0.gstatic.com/images?q=tbn:ANd9GcSDgBs9YeK3kBdpl_5OazKbjixTg6rK5rVuWg&s',\n",
    "    'https://encrypted-tbn0.gstatic.com/images?q=tbn:ANd9GcRZyJeDBMm8bkgDpWY5C7rOcMdAXJNy44PpqA&s',\n",
    "    'https://image.made-in-china.com/2f0j00kialgzIKAdvZ/High-Stability-100-Billion-Cfu-G-Freeze-Dried-Probiotic-Powder-Lactobacillus-Delbrueckii-Subsp-Bulgaricus.webp',\n",
    "    'https://static.wixstatic.com/media/00cb6f_0c0a57613a2849a3972f5f2a4838ed55~mv2.jpg/v1/fill/w_1024,h_576,al_c,q_85/Lactobacillus%20gasseri.jpg',\n",
    "    'https://encrypted-tbn0.gstatic.com/images?q=tbn:ANd9GcQ96oB_fo4nEu3ju2Nb4VpZgN2W3IgkUjomkQ&s',\n",
    "    'https://encrypted-tbn0.gstatic.com/images?q=tbn:ANd9GcQTS_uTuWpeOoPprxyY_vop7FXNKBc_qpdy9w&s',\n",
    "    'https://encrypted-tbn0.gstatic.com/images?q=tbn:ANd9GcQRvnUuyHeDozPnoJMzM-fGcFRNLPv_FVmdbA&s',\n",
    "    'https://encrypted-tbn0.gstatic.com/images?q=tbn:ANd9GcRmychl4IDUEFhBR5iAuM-f63DJ5-Z9G0BTRw&s',\n",
    "    'https://encrypted-tbn0.gstatic.com/images?q=tbn:ANd9GcRjikoGUhy5080WA13eO9g6va19d5cR-Cx0ng&s',\n",
    "    'https://static.wixstatic.com/media/00cb6f_9986434f506a4395aec394dc10a1e801~mv2.jpg/v1/fill/w_900,h_777,al_c,q_85/Lactobacillus%20rhamnosus.jpg',\n",
    "    'https://encrypted-tbn0.gstatic.com/images?q=tbn:ANd9GcRqbt6ITWpgYnE81W3XD6Eaa5aiiemH272hJQ&s',\n",
    "    'https://encrypted-tbn0.gstatic.com/images?q=tbn:ANd9GcTfJ7cH8NZCpr1OVTDxTzQ48K53a_fKWYdLgQ&s',\n",
    "    'https://encrypted-tbn0.gstatic.com/images?q=tbn:ANd9GcQztC2kwu3qnk1TtcQI9XfUo4YJ96Yn2hHDpQ&s',\n",
    "    'https://encrypted-tbn0.gstatic.com/images?q=tbn:ANd9GcS9p34tvCGTnrIHRaonNfqaOsCrknH_yMoJMw&s',\n",
    "    'https://encrypted-tbn0.gstatic.com/images?q=tbn:ANd9GcSjmqM_dIZLVPQ3Hko5OqMeKZJ_6O803svw1g&s',\n",
    "    'https://encrypted-tbn0.gstatic.com/images?q=tbn:ANd9GcQv2V_DGa2qcBpeqkeF5dlrK87dKje1iG0Bgw&s',\n",
    "    'https://encrypted-tbn0.gstatic.com/images?q=tbn:ANd9GcTQ0ZkimAcc59qq0p77bd3qoKnp7zqtz7d68w&s',\n",
    "    'https://encrypted-tbn0.gstatic.com/images?q=tbn:ANd9GcSsR-Fyyv8_z7WuKzdpAfIUTDxFTw5Pch-epA&s',\n",
    "    'https://www.biomerieux-industry.com/sites/default/files/2020-03/sterile_science-staphylococcus_01.jpg',\n",
    "    'https://encrypted-tbn0.gstatic.com/images?q=tbn:ANd9GcRTo5CbNLILdAggfI7ioTJ2A53ve1AunPy17w&s',\n",
    "    'https://encrypted-tbn0.gstatic.com/images?q=tbn:ANd9GcQeUroFc882dqlkL10cnp_cVPwiT_9uPLhzEg&s',\n",
    "    'https://image.tuasaude.com/media/article/pg/pp/streptococcus-agalactiae_34754.jpg?width=686&height=487',\n",
    "    'https://media.sciencephoto.com/image/f0212229/800wm'\n",
    "    \n",
    "]"
   ]
  },
  {
   "cell_type": "code",
   "execution_count": 37,
   "metadata": {},
   "outputs": [
    {
     "name": "stderr",
     "output_type": "stream",
     "text": [
      "/tmp/ipykernel_6662/4276361126.py:11: FutureWarning: Series.__getitem__ treating keys as positions is deprecated. In a future version, integer keys will always be treated as labels (consistent with DataFrame behavior). To access a value by position, use `ser.iloc[pos]`\n",
      "  cursor.execute(update_url, (urls[i], df.iloc[i][0]))\n"
     ]
    }
   ],
   "source": [
    "# Input urls \n",
    "\n",
    "for i in range(df.shape[0]):\n",
    "    with sqlite3.connect('plague.db') as database:\n",
    "        cursor = database.cursor()\n",
    "        update_url = '''\n",
    "        UPDATE plague\n",
    "        SET Url = ?\n",
    "        WHERE name = ?\n",
    "        '''\n",
    "        cursor.execute(update_url, (urls[i], df.iloc[i][0]))\n",
    "        database.commit()\n",
    "    cursor.close()"
   ]
  }
 ],
 "metadata": {
  "kernelspec": {
   "display_name": "venv",
   "language": "python",
   "name": "python3"
  },
  "language_info": {
   "codemirror_mode": {
    "name": "ipython",
    "version": 3
   },
   "file_extension": ".py",
   "mimetype": "text/x-python",
   "name": "python",
   "nbconvert_exporter": "python",
   "pygments_lexer": "ipython3",
   "version": "3.12.3"
  }
 },
 "nbformat": 4,
 "nbformat_minor": 2
}
