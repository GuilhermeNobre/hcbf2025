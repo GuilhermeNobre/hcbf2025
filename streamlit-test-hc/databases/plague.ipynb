{
 "cells": [
  {
   "cell_type": "code",
   "execution_count": 10,
   "metadata": {},
   "outputs": [],
   "source": [
    "import sqlite3\n",
    "\n",
    "database = sqlite3.connect('plague.db')\n",
    "cursor = database.cursor()\n",
    "cursor.close()"
   ]
  },
  {
   "cell_type": "code",
   "execution_count": 11,
   "metadata": {},
   "outputs": [],
   "source": [
    "with sqlite3.connect('plague.db') as database:\n",
    "    cursor = database.cursor()\n",
    "\n",
    "    create_table = '''\n",
    "    CREATE TABLE IF NOT EXISTS plague (\n",
    "    id INTEGER PRIMARY KEY AUTOINCREMENT,\n",
    "    name TEXT NOT NULL,\n",
    "    characteristics TEXT NOT NULL,\n",
    "    Location TEXT NOT NULL,\n",
    "    Diessing TEXT NOT NULL,\n",
    "    Symptoms TEXT NOT NULL,\n",
    "    Medications TEXT NOT NULL,\n",
    "    Tips TEXT NOT NULL,\n",
    "    Prevention TEXT NOT NULL\n",
    "    )\n",
    "    '''\n",
    "    cursor.execute(create_table)\n",
    "    database.commit()\n",
    "    \n",
    "cursor.close()"
   ]
  },
  {
   "cell_type": "code",
   "execution_count": 18,
   "metadata": {},
   "outputs": [],
   "source": [
    "def input_data_on_database(data):\n",
    "    with sqlite3.connect('plague.db') as database:\n",
    "        cursor = database.cursor()\n",
    "        insert_data = '''\n",
    "        INSERT INTO plague (name, characteristics, Location, Diessing, Symptoms, Medications, Tips, Prevention)\n",
    "        VALUES (?, ?, ?, ?, ?, ?, ?, ?)\n",
    "        '''\n",
    "        cursor.execute(insert_data, data)\n",
    "        database.commit()\n",
    "    cursor.close()"
   ]
  },
  {
   "cell_type": "code",
   "execution_count": 5,
   "metadata": {},
   "outputs": [],
   "source": [
    "import pandas as pd"
   ]
  },
  {
   "cell_type": "code",
   "execution_count": 6,
   "metadata": {},
   "outputs": [
    {
     "data": {
      "text/plain": [
       "<_io.TextIOWrapper name='TAB-BAC (1).csv' mode='r' encoding='UTF-8'>"
      ]
     },
     "execution_count": 6,
     "metadata": {},
     "output_type": "execute_result"
    }
   ],
   "source": [
    "open_csv = open('TAB-BAC (1).csv', 'r')\n",
    "\n",
    "open_csv"
   ]
  },
  {
   "cell_type": "code",
   "execution_count": 9,
   "metadata": {},
   "outputs": [],
   "source": [
    "simple_data = {0: 'Acinetobacter.baumanii',\n",
    " 1: 'Actinomyces.israeli',\n",
    " 2: 'Bacteroides.fragilis',\n",
    " 3: 'Bifidobacterium.spp',\n",
    " 4: 'Candida.albicans',\n",
    " 5: 'Clostridium.perfringens',\n",
    " 6: 'Enterococcus.faecalis',\n",
    " 7: 'Enterococcus.faecium',\n",
    " 8: 'Escherichia.coli',\n",
    " 9: 'Fusobacterium',\n",
    " 10: 'Lactobacillus.casei',\n",
    " 11: 'Lactobacillus.crispatus',\n",
    " 12: 'Lactobacillus.delbrueckii',\n",
    " 13: 'Lactobacillus.gasseri',\n",
    " 14: 'Lactobacillus.jehnsenii',\n",
    " 15: 'Lactobacillus.johnsonii',\n",
    " 16: 'Lactobacillus.paracasei',\n",
    " 17: 'Lactobacillus.plantarum',\n",
    " 18: 'Lactobacillus.reuteri',\n",
    " 19: 'Lactobacillus.rhamnosus',\n",
    " 20: 'Lactobacillus.salivarius',\n",
    " 21: 'Listeria.monocytogenes',\n",
    " 22: 'Micrococcus.spp',\n",
    " 23: 'Neisseria.gonorrhoeae',\n",
    " 24: 'Porfyromonas.gingivalis',\n",
    " 25: 'Propionibacterium.acnes',\n",
    " 26: 'Proteus',\n",
    " 27: 'Pseudomonas.aeruginosa',\n",
    " 28: 'Staphylococcus.aureus',\n",
    " 29: 'Staphylococcus.epidermidis',\n",
    " 30: 'Staphylococcus.saprophiticus',\n",
    " 31: 'Streptococcus.agalactiae',\n",
    " 32: 'Veionella'}"
   ]
  },
  {
   "cell_type": "code",
   "execution_count": 13,
   "metadata": {},
   "outputs": [
    {
     "data": {
      "text/plain": [
       "(33, 8)"
      ]
     },
     "execution_count": 13,
     "metadata": {},
     "output_type": "execute_result"
    }
   ],
   "source": [
    "df = pd.read_csv('TAB-BAC (1).csv')\n",
    "\n",
    "df.head()\n",
    "df.shape"
   ]
  },
  {
   "cell_type": "code",
   "execution_count": 19,
   "metadata": {},
   "outputs": [
    {
     "name": "stderr",
     "output_type": "stream",
     "text": [
      "/tmp/ipykernel_5153/3375602603.py:5: FutureWarning: Series.__getitem__ treating keys as positions is deprecated. In a future version, integer keys will always be treated as labels (consistent with DataFrame behavior). To access a value by position, use `ser.iloc[pos]`\n",
      "  tuple_data += (data[j],)\n"
     ]
    }
   ],
   "source": [
    "for i in range(df.shape[0]):\n",
    "    tuple_data = ()\n",
    "    data = df.iloc[i]\n",
    "    for j in range(8):\n",
    "        tuple_data += (data[j],)\n",
    "    input_data_on_database(tuple_data)\n"
   ]
  },
  {
   "cell_type": "code",
   "execution_count": 15,
   "metadata": {},
   "outputs": [
    {
     "data": {
      "text/plain": [
       "Nome da Bactéria                                       Acinetobacter.baumanii\n",
       "Características                              Gram-negativa aeróbia resistente\n",
       "Localização                                                Hospitais ambiente\n",
       "Doenças Causadas                                     Pneumonia ITU bacteremia\n",
       "Sintomas Comuns             Febre tosse falta de ar (pneumonia)Dor ao urin...\n",
       "Medicamentos e Aplicação    Colistina (IV) Tigeciclina (IV) Meropenem/Imip...\n",
       "Dicas Adicionais            Testes de sensibilidade são cruciais devido à ...\n",
       "Prevenção                   Higiene das mãos precauções de contato uso rac...\n",
       "Name: 0, dtype: object"
      ]
     },
     "execution_count": 15,
     "metadata": {},
     "output_type": "execute_result"
    }
   ],
   "source": [
    "df.iloc[0]"
   ]
  }
 ],
 "metadata": {
  "kernelspec": {
   "display_name": "venv",
   "language": "python",
   "name": "python3"
  },
  "language_info": {
   "codemirror_mode": {
    "name": "ipython",
    "version": 3
   },
   "file_extension": ".py",
   "mimetype": "text/x-python",
   "name": "python",
   "nbconvert_exporter": "python",
   "pygments_lexer": "ipython3",
   "version": "3.12.3"
  }
 },
 "nbformat": 4,
 "nbformat_minor": 2
}
