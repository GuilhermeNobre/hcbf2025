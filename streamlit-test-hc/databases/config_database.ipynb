{
 "cells": [
  {
   "cell_type": "code",
   "execution_count": 1,
   "metadata": {},
   "outputs": [],
   "source": [
    "import sqlite3"
   ]
  },
  {
   "cell_type": "code",
   "execution_count": 2,
   "metadata": {},
   "outputs": [],
   "source": [
    "database_name = \"registers_control.sqlite\""
   ]
  },
  {
   "cell_type": "code",
   "execution_count": 3,
   "metadata": {},
   "outputs": [],
   "source": [
    "connection = sqlite3.connect(database_name)\n",
    "cursor = connection.cursor()\n",
    "cursor.close()"
   ]
  },
  {
   "cell_type": "code",
   "execution_count": 5,
   "metadata": {},
   "outputs": [],
   "source": [
    "with sqlite3.connect(database_name) as connection:\n",
    "    cursor = connection.cursor()\n",
    "\n",
    "    create_table = '''\n",
    "    CREATE TABLE IF NOT EXISTS registers (\n",
    "        id INTEGER PRIMARY KEY AUTOINCREMENT,\n",
    "        plague TEXT NOT NULL,\n",
    "        timestamp INTEGER NOT NULL,\n",
    "        id_image TEXT NOT NULL,\n",
    "        location TEXT NOT NULL\n",
    "    )\n",
    "    '''\n",
    "\n",
    "    cursor.execute(create_table)\n",
    "\n",
    "    connection.commit()\n",
    "\n",
    "cursor.close()"
   ]
  },
  {
   "cell_type": "code",
   "execution_count": 8,
   "metadata": {},
   "outputs": [],
   "source": [
    "# Put data test\n",
    "\n",
    "with sqlite3.connect(database_name) as connection:\n",
    "    cursor = connection.cursor()\n",
    "\n",
    "    data = [\n",
    "        ('COVID-19', 1618220400, '2313123' ,'São Paulo'),\n",
    "        ('COVID-19', 1618220400, 'gsdfgdfg' ,'Rio de Janeiro'),\n",
    "    ]\n",
    "\n",
    "    cursor.executemany('INSERT INTO registers (plague, timestamp, id_image, location) VALUES (?, ?, ?, ?)', data)\n",
    "\n",
    "    connection.commit()\n",
    "\n",
    "cursor.close()\n",
    "\n"
   ]
  },
  {
   "cell_type": "code",
   "execution_count": 10,
   "metadata": {},
   "outputs": [
    {
     "name": "stdout",
     "output_type": "stream",
     "text": [
      "(1, 'COVID-19', 1618220400, '2313123', 'São Paulo')\n",
      "(2, 'COVID-19', 1618220400, 'gsdfgdfg', 'Rio de Janeiro')\n"
     ]
    }
   ],
   "source": [
    "with sqlite3.connect(database_name) as connection:\n",
    "    cursor = connection.cursor()\n",
    "\n",
    "    cursor.execute('SELECT * FROM registers')\n",
    "\n",
    "    for line in cursor.fetchall():\n",
    "        print(line)\n",
    "cursor.close()"
   ]
  },
  {
   "cell_type": "code",
   "execution_count": 7,
   "metadata": {},
   "outputs": [
    {
     "ename": "NameError",
     "evalue": "name 'connection' is not defined",
     "output_type": "error",
     "traceback": [
      "\u001b[0;31m---------------------------------------------------------------------------\u001b[0m",
      "\u001b[0;31mNameError\u001b[0m                                 Traceback (most recent call last)",
      "Cell \u001b[0;32mIn[7], line 1\u001b[0m\n\u001b[0;32m----> 1\u001b[0m cursor \u001b[38;5;241m=\u001b[39m \u001b[43mconnection\u001b[49m\u001b[38;5;241m.\u001b[39mcursor()\n\u001b[1;32m      2\u001b[0m cursor\u001b[38;5;241m.\u001b[39mclose()\n",
      "\u001b[0;31mNameError\u001b[0m: name 'connection' is not defined"
     ]
    }
   ],
   "source": [
    "cursor = connection.cursor()\n",
    "cursor.close()"
   ]
  },
  {
   "cell_type": "code",
   "execution_count": 1,
   "metadata": {},
   "outputs": [
    {
     "name": "stdout",
     "output_type": "stream",
     "text": [
      "1618196400.0\n"
     ]
    }
   ],
   "source": [
    "from datetime import datetime\n",
    "\n",
    "date_raw = \"2021-04-12\"\n",
    "\n",
    "date_object = datetime.strptime(date_raw, '%Y-%m-%d')\n",
    "timestamp = date_object.timestamp()\n",
    "\n",
    "print(timestamp)\n"
   ]
  }
 ],
 "metadata": {
  "kernelspec": {
   "display_name": "venv",
   "language": "python",
   "name": "python3"
  },
  "language_info": {
   "codemirror_mode": {
    "name": "ipython",
    "version": 3
   },
   "file_extension": ".py",
   "mimetype": "text/x-python",
   "name": "python",
   "nbconvert_exporter": "python",
   "pygments_lexer": "ipython3",
   "version": "3.10.12"
  }
 },
 "nbformat": 4,
 "nbformat_minor": 2
}
